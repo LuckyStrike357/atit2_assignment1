{
 "cells": [
  {
   "cell_type": "markdown",
   "metadata": {},
   "source": [
    "# E KNN and K-means CIFAR\n",
    "\n",
    "\n",
    "transform cifar-10 to grayscale.\n",
    "\n",
    "- Does knn work similarly good?\n",
    "- Does k-means work similarly good?\n",
    "- Demonstrate this similar to B, C and D\n"
   ]
  },
  {
   "cell_type": "code",
   "execution_count": 1,
   "metadata": {},
   "outputs": [],
   "source": [
    "import tensorflow as tf\n",
    "import numpy as np\n",
    "import matplotlib.pyplot as plt\n",
    "import pandas as pd\n",
    "from sklearn.metrics import f1_score\n",
    "import scipy.spatial.distance\n",
    "import seaborn as sns\n",
    "from sklearn.manifold import TSNE\n",
    "\n",
    "plt.gray()\n",
    "import skimage as ski"
   ]
  },
  {
   "cell_type": "code",
   "execution_count": 2,
   "metadata": {},
   "outputs": [],
   "source": [
    "cifar = tf.keras.datasets.cifar10.load_data()[0] \n",
    "X_train, Y_train = cifar[0], cifar[1]\n",
    "X_test, Y_test = cifar[0], cifar[1]"
   ]
  },
  {
   "cell_type": "code",
   "execution_count": 3,
   "metadata": {},
   "outputs": [],
   "source": [
    "#convert CIFAR 10 to grayscale\n",
    "X_train = ski.color.rgb2gray(X_train)\n",
    "X_test = ski.color.rgb2gray(X_test)"
   ]
  },
  {
   "cell_type": "code",
   "execution_count": 4,
   "metadata": {},
   "outputs": [],
   "source": [
    "#flatten data\n",
    "n_train = X_train.shape[0]\n",
    "n_test = X_test.shape[0]\n",
    "\n",
    "m = X_train.shape[1]**2\n",
    "\n",
    "X_train = X_train.reshape([n_train, m])\n",
    "X_test = X_test.reshape([n_test, m])"
   ]
  },
  {
   "cell_type": "code",
   "execution_count": 5,
   "metadata": {},
   "outputs": [],
   "source": [
    "X_train = X_train.reshape([n_train, m])\n",
    "X_test = X_test.reshape([n_test, m])\n",
    "\n",
    "idx = np.random.randint(n_train, size=10000)\n",
    "x_train_sample = X_train[idx]\n",
    "y_train_sample = Y_train[idx]\n",
    "\n",
    "idx = np.random.randint(n_test, size=100)\n",
    "x_test_sample = X_test[idx]\n",
    "y_test_sample = Y_test[idx]\n",
    "\n",
    "karray = [2, 4, 8]"
   ]
  },
  {
   "cell_type": "markdown",
   "metadata": {},
   "source": [
    "# KNN and Cifar"
   ]
  },
  {
   "cell_type": "code",
   "execution_count": 6,
   "metadata": {},
   "outputs": [],
   "source": [
    "from sklearn.neighbors import KNeighborsClassifier\n",
    "knn_2 = KNeighborsClassifier(n_neighbors=2)\n",
    "knn_4 = KNeighborsClassifier(n_neighbors=4)\n",
    "knn_8 = KNeighborsClassifier(n_neighbors=8)"
   ]
  },
  {
   "cell_type": "code",
   "execution_count": 7,
   "metadata": {},
   "outputs": [
    {
     "data": {
      "text/plain": [
       "KNeighborsClassifier(algorithm='auto', leaf_size=30, metric='minkowski',\n",
       "           metric_params=None, n_jobs=None, n_neighbors=8, p=2,\n",
       "           weights='uniform')"
      ]
     },
     "execution_count": 7,
     "metadata": {},
     "output_type": "execute_result"
    }
   ],
   "source": [
    "knn_2.fit(x_train_sample, np.ravel(y_train_sample))\n",
    "knn_4.fit(x_train_sample, np.ravel(y_train_sample))\n",
    "knn_8.fit(x_train_sample, np.ravel(y_train_sample))"
   ]
  },
  {
   "cell_type": "code",
   "execution_count": 8,
   "metadata": {},
   "outputs": [
    {
     "name": "stdout",
     "output_type": "stream",
     "text": [
      "[3 8 2 6 9]\n"
     ]
    }
   ],
   "source": [
    "# Predict the results\n",
    "predictions = knn_2.predict(x_train_sample)\n",
    "print(predictions[:5])"
   ]
  },
  {
   "cell_type": "code",
   "execution_count": 9,
   "metadata": {},
   "outputs": [
    {
     "name": "stdout",
     "output_type": "stream",
     "text": [
      "0.6531\n"
     ]
    }
   ],
   "source": [
    "# The score method uses the f1_score to calculate\n",
    "score = knn_2.score(x_train_sample, y_train_sample)\n",
    "print(score)"
   ]
  },
  {
   "cell_type": "code",
   "execution_count": 11,
   "metadata": {},
   "outputs": [],
   "source": [
    "# Get those pictures that were misclassified\n",
    "index = 0\n",
    "misclassifiedIndexes = []\n",
    "for label, predict in zip(Y_train, predictions):\n",
    "    if label != predict: \n",
    "        misclassifiedIndexes.append(index)\n",
    "    index +=1"
   ]
  },
  {
   "cell_type": "code",
   "execution_count": 13,
   "metadata": {},
   "outputs": [
    {
     "data": {
      "image/png": "[encoded data removed]",
      "text/plain": [
       "<Figure size 1440x288 with 5 Axes>"
      ]
     },
     "metadata": {
      "needs_background": "light"
     },
     "output_type": "display_data"
    }
   ],
   "source": [
    "plt.figure(figsize=(20,4))\n",
    "for plotIndex, badIndex in enumerate(misclassifiedIndexes[0:5]):\n",
    "    plt.subplot(1, 5, plotIndex + 1)\n",
    "    plt.imshow(np.reshape(X_train[badIndex], (32,32)), cmap=plt.cm.gray)\n",
    "    plt.title('Predicted: {}, Actual: {}'.format(predictions[badIndex], Y_train[badIndex]), fontsize = 15)"
   ]
  },
  {
   "cell_type": "code",
   "execution_count": 18,
   "metadata": {},
   "outputs": [
    {
     "name": "stdout",
     "output_type": "stream",
     "text": [
      "              precision    recall  f1-score   support\n",
      "\n",
      "           0       0.54      1.00      0.70      1011\n",
      "           1       0.89      0.92      0.90      1005\n",
      "           2       0.51      0.88      0.65       967\n",
      "           3       0.70      0.80      0.75      1025\n",
      "           4       0.46      0.67      0.55       989\n",
      "           5       0.78      0.50      0.61      1000\n",
      "           6       0.72      0.46      0.56       992\n",
      "           7       0.89      0.45      0.59      1014\n",
      "           8       0.75      0.58      0.65       991\n",
      "           9       1.00      0.28      0.43      1006\n",
      "\n",
      "   micro avg       0.65      0.65      0.65     10000\n",
      "   macro avg       0.73      0.65      0.64     10000\n",
      "weighted avg       0.73      0.65      0.64     10000\n",
      "\n"
     ]
    }
   ],
   "source": [
    "#pd.DataFrame(np.array(score).T, columns=[\"k = 2\", \"k = 4\", \"k = 8\"])\n",
    "from sklearn.metrics import classification_report\n",
    "print(classification_report(y_train_sample, predictions))"
   ]
  },
  {
   "cell_type": "markdown",
   "metadata": {},
   "source": [
    "As we can see KNN works very badly with this converted Dataset. "
   ]
  },
  {
   "cell_type": "code",
   "execution_count": null,
   "metadata": {},
   "outputs": [],
   "source": [
    "# Old method\n",
    "\n",
    "results = []\n",
    "def endresult():\n",
    "    for k in karray:\n",
    "        result_array = []\n",
    "        dists = scipy.spatial.distance.cdist(x_train_sample, x_test_sample, metric='euclid')\n",
    "        idx_nearest = np.argpartition(dists, k, axis = 0)[:k]\n",
    "        nearest_dists = np.take(x_train_sample, idx)\n",
    "    \n",
    "        pred = y_train_sample[idx_nearest]\n",
    "        pred = np.ndarray.transpose(pred)\n",
    "        pred = pred.reshape(100,k)\n",
    "        actuals = y_test_sample\n",
    "        prediction = np.array([])\n",
    "        \n",
    "        for row in pred:\n",
    "            count = np.bincount(row)\n",
    "            prediction = np.append(prediction, int(np.argmax(count)))\n",
    "    \n",
    "        prediction = prediction.astype(int)\n",
    "        '''We use 1-f1_score since it is an better indicator of quality than the error rate.'''\n",
    "        calcf1score = f1_score(actuals, prediction, average = 'micro')\n",
    "        print (\"The error rate for KNN with k = {} on this Dataset is {}\".format(k, (1 - calcf1score)))\n",
    "\n",
    "        for i in range(10):\n",
    "            indices = np.where(actuals == i)\n",
    "            prediction = prediction.reshape(100,1)\n",
    "            f1 = 1-(f1_score(actuals[indices], prediction[indices], average = 'micro'))\n",
    "            result_array.append(f1)\n",
    "            \n",
    "        results.append(result_array)\n",
    "               \n",
    "endresult()"
   ]
  },
  {
   "cell_type": "code",
   "execution_count": null,
   "metadata": {},
   "outputs": [],
   "source": []
  }
 ],
 "metadata": {
  "kernelspec": {
   "display_name": "Python 3",
   "language": "python",
   "name": "python3"
  },
  "language_info": {
   "codemirror_mode": {
    "name": "ipython",
    "version": 3
   },
   "file_extension": ".py",
   "mimetype": "text/x-python",
   "name": "python",
   "nbconvert_exporter": "python",
   "pygments_lexer": "ipython3",
   "version": "3.7.3"
  }
 },
 "nbformat": 4,
 "nbformat_minor": 2
}
