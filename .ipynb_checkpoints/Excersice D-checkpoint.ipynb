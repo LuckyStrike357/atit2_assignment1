{
 "cells": [
  {
   "cell_type": "markdown",
   "metadata": {},
   "source": [
    "# D MNIST understanding"
   ]
  },
  {
   "cell_type": "markdown",
   "metadata": {},
   "source": [
    "Some numbers are more difficult to predict with KNN and to cluster with K-means. Show why. Start with examples, and get more general"
   ]
  },
  {
   "cell_type": "code",
   "execution_count": 15,
   "metadata": {},
   "outputs": [
    {
     "data": {
      "text/plain": [
       "<Figure size 432x288 with 0 Axes>"
      ]
     },
     "metadata": {},
     "output_type": "display_data"
    }
   ],
   "source": [
    "import tensorflow as tf\n",
    "import numpy as np\n",
    "import matplotlib.pyplot as plt\n",
    "import seaborn as sns\n",
    "from sklearn.manifold import TSNE\n",
    "import scipy.spatial.distance\n",
    "from sklearn.metrics import f1_score\n",
    "import pandas as pd\n",
    "\n",
    "plt.set_cmap('gray')"
   ]
  },
  {
   "cell_type": "code",
   "execution_count": 16,
   "metadata": {},
   "outputs": [],
   "source": [
    "mnist = tf.keras.datasets.mnist.load_data()[0]\n",
    "X_train, Y_train = mnist[0], mnist[1]\n",
    "X_test, Y_test = mnist[0], mnist[1]"
   ]
  },
  {
   "cell_type": "code",
   "execution_count": 17,
   "metadata": {},
   "outputs": [],
   "source": [
    "\n",
    "#flatten data\n",
    "n_train = X_train.shape[0]\n",
    "n_test = X_test.shape[0]\n",
    "\n",
    "m = X_train.shape[1]**2\n",
    "\n",
    "X_train = X_train.reshape([n_train, m])\n",
    "X_test = X_test.reshape([n_test, m])\n",
    "\n",
    "X_train = X_train.reshape([n_train, m])\n",
    "X_test = X_test.reshape([n_test, m])\n",
    "\n",
    "idx = np.random.randint(n_train, size=10000)\n",
    "x_train_sample = X_train[idx]\n",
    "y_train_sample = Y_train[idx]\n",
    "\n",
    "idx = np.random.randint(n_test, size=1000)\n",
    "x_test_sample = X_test[idx]\n",
    "y_test_sample = Y_test[idx]"
   ]
  },
  {
   "cell_type": "code",
   "execution_count": 18,
   "metadata": {},
   "outputs": [],
   "source": [
    "from sklearn.neighbors import KNeighborsClassifier\n",
    "knn_2 = KNeighborsClassifier(n_neighbors=2)\n",
    "knn_4 = KNeighborsClassifier(n_neighbors=4)\n",
    "knn_8 = KNeighborsClassifier(n_neighbors=8)"
   ]
  },
  {
   "cell_type": "code",
   "execution_count": 19,
   "metadata": {},
   "outputs": [
    {
     "data": {
      "text/plain": [
       "KNeighborsClassifier(algorithm='auto', leaf_size=30, metric='minkowski',\n",
       "                     metric_params=None, n_jobs=None, n_neighbors=8, p=2,\n",
       "                     weights='uniform')"
      ]
     },
     "execution_count": 19,
     "metadata": {},
     "output_type": "execute_result"
    }
   ],
   "source": [
    "knn_2.fit(x_train_sample, np.ravel(y_train_sample))\n",
    "knn_4.fit(x_train_sample, np.ravel(y_train_sample))\n",
    "knn_8.fit(x_train_sample, np.ravel(y_train_sample))"
   ]
  },
  {
   "cell_type": "code",
   "execution_count": 20,
   "metadata": {},
   "outputs": [],
   "source": [
    "# Predict the results\n",
    "knn_2_predictions = knn_2.predict(x_test_sample)\n",
    "knn_4_predictions = knn_4.predict(x_test_sample)\n",
    "knn_8_predictions = knn_8.predict(x_test_sample)"
   ]
  },
  {
   "cell_type": "code",
   "execution_count": 21,
   "metadata": {},
   "outputs": [
    {
     "name": "stdout",
     "output_type": "stream",
     "text": [
      "KNN 2 predictions: [9 4 5 7 0 2 1 8 1 1 3 5 9 0 0 1 7 0 1 9 2 3 8 4 6 9 3 6 8 3 8 1 2 7 8 4 2\n",
      " 5 9 7 7 7 0 2 6 1 4 1 3 3 5 5 5 0 9 1 9 4 4 4 9 6 5 9 5 1 5 9 1 0 4 0 1 0\n",
      " 0 7 5 6 9 3 4 1 0 6 3 8 4 5 3 3 8 3 3 1 1 6 6 4 1 9 5 9 6 5 8 6 0 5 4 3 2\n",
      " 9 4 9 0 0 7 9 6 0 0 9 6 7 0 1 6 9 2 0 1 3 6 0 3 6 4 6 4 6 2 5 3 8 5 4 1 7\n",
      " 8 2 8 2 8 7 7 7 0 0 3 0 2 6 1 0 4 6 8 5 5 2 0 6 0 8 6 1 6 9 0 0 3 4 5 1 1\n",
      " 4 6 3 4 9 8 6 2 6 0 2 5 2 9 2 5 5 5 1 9 3 0 7 6 8 8 6 5 7 6 2 1 9 1 8 2 2\n",
      " 1 9 0 4 7 0 1 4 1 0 5 4 3 7 5 4 9 9 0 5 2 8 1 0 9 6 9 7 3 8 6 4 7 2 6 3 3\n",
      " 4 3 3 4 4 3 0 7 7 9 3 5 2 2 6 6 2 0 7 0 6 3 9 3 0 7 6 6 1 7 2 4 1 1 7 6 5\n",
      " 1 7 5 0 0 6 3 9 0 6 9 9 0 5 3 7 5 4 7 1 7 8 4 2 3 9 4 2 7 0 2 7 8 0 9 3 3\n",
      " 8 5 0 1 8 0 8 7 7 6 1 7 4 7 7 6 3 8 4 1 2 4 6 8 9 1 9 5 9 5 3 0 6 1 3 2 8\n",
      " 6 9 0 1 6 3 4 0 4 1 7 5 3 8 4 0 1 9 7 1 4 0 2 7 8 2 9 7 8 7 7 8 3 3 1 5 1\n",
      " 3 8 8 3 1 7 8 8 4 4 5 6 5 1 0 2 7 4 9 6 8 7 1 0 3 1 6 8 9 3 0 9 7 0 3 8 9\n",
      " 8 1 7 3 7 9 9 7 6 4 9 7 1 9 1 4 7 3 1 7 7 9 1 8 7 0 4 3 9 1 7 8 4 0 1 3 7\n",
      " 8 1 9 5 2 5 3 0 9 8 1 7 7 8 6 2 5 0 6 2 0 4 7 7 5 2 1 0 9 5 5 4 5 1 4 4 2\n",
      " 4 8 7 4 0 3 8 4 0 2 7 3 2 1 9 4 6 8 7 6 0 0 4 4 7 4 2 7 1 6 1 3 7 6 0 8 8\n",
      " 4 6 3 2 3 0 9 6 1 0 3 9 1 8 1 5 6 4 1 4 4 8 3 2 8 0 6 3 6 6 7 5 1 9 2 8 4\n",
      " 5 3 9 0 1 4 7 9 9 0 2 0 7 3 7 4 7 1 2 8 7 2 1 9 9 4 8 9 0 6 7 1 6 3 2 2 9\n",
      " 7 5 0 7 2 2 9 5 5 5 9 5 6 6 8 8 1 1 3 5 7 0 4 7 8 1 5 4 0 3 9 1 1 9 4 7 6\n",
      " 9 5 0 7 3 9 5 6 3 7 4 7 7 7 9 8 9 0 4 2 2 1 2 9 1 0 9 2 2 3 0 3 3 1 1 2 7\n",
      " 3 2 0 3 1 0 3 6 7 3 0 5 1 7 9 1 9 1 2 3 1 8 7 7 6 4 7 9 7 8 5 3 6 3 4 1 9\n",
      " 9 3 7 1 0 4 0 5 0 0 7 9 2 9 4 2 2 5 8 2 5 7 8 6 1 8 9 7 4 7 3 6 7 9 0 4 7\n",
      " 8 0 8 4 6 2 7 7 1 0 5 6 9 4 1 9 9 7 4 8 1 3 6 9 5 8 2 6 9 7 4 0 7 4 2 4 8\n",
      " 3 5 1 5 1 0 8 7 0 9 4 1 3 6 6 6 0 3 1 5 5 1 0 8 0 4 3 5 1 6 9 7 8 4 5 8 6\n",
      " 1 1 2 1 2 1 8 8 4 2 8 7 3 2 6 3 2 1 4 7 9 2 5 6 6 3 5 6 4 5 5 1 5 1 8 5 2\n",
      " 4 8 6 6 6 3 6 8 4 9 3 7 0 5 7 1 7 1 9 6 0 7 0 0 6 2 6 8 5 5 4 0 6 4 1 9 0\n",
      " 7 3 0 8 9 7 4 0 1 2 7 4 3 9 2 4 4 6 7 6 8 1 4 4 0 3 2 4 8 7 1 0 7 9 8 9 1\n",
      " 1 2 9 2 0 0 2 9 7 3 2 9 8 1 6 3 4 5 8 0 3 7 7 0 9 4 6 6 3 3 2 9 8 0 1 0 7\n",
      " 0]\n",
      "KNN 4 predictions: [9 4 5 7 0 2 1 8 1 1 3 5 9 0 0 1 7 0 1 9 4 3 8 4 6 9 3 6 8 3 8 1 2 7 1 4 2\n",
      " 5 9 7 7 7 0 2 6 1 4 1 3 3 5 5 5 0 9 1 9 4 4 4 9 6 5 9 5 1 5 9 1 0 4 0 1 0\n",
      " 0 7 5 6 9 3 4 1 0 6 9 8 4 5 3 3 8 3 3 1 1 6 6 4 1 9 5 9 6 5 8 6 0 5 4 3 2\n",
      " 9 4 9 0 0 7 9 6 0 0 9 6 7 0 1 6 9 2 0 9 3 6 0 3 6 4 6 4 6 2 6 3 8 5 4 1 7\n",
      " 8 2 8 2 8 9 7 7 0 0 3 0 2 6 1 0 4 6 8 5 5 2 0 6 0 8 6 1 6 9 0 0 3 4 5 1 1\n",
      " 4 6 3 4 9 8 6 2 6 0 2 5 2 9 2 5 5 5 1 9 3 0 7 6 8 8 6 5 7 6 2 1 9 1 8 2 2\n",
      " 1 9 0 4 7 0 1 9 1 0 3 4 3 7 5 4 9 9 0 5 2 8 1 0 9 6 9 7 3 8 6 4 7 2 6 3 3\n",
      " 4 3 3 4 4 3 0 9 7 9 3 5 9 2 6 6 2 0 7 0 6 3 9 3 0 7 6 6 1 7 2 4 1 1 7 6 5\n",
      " 1 7 5 0 0 6 3 9 0 6 9 9 0 5 3 7 5 4 7 1 7 8 4 2 3 9 4 2 7 0 2 7 8 0 9 3 3\n",
      " 8 5 0 1 8 0 8 7 7 6 1 7 4 7 7 6 3 8 4 1 2 4 6 8 9 1 9 5 9 5 5 0 6 1 3 2 8\n",
      " 6 9 0 1 6 3 4 0 4 1 7 5 3 8 4 0 1 9 7 1 4 0 2 7 8 2 9 7 8 7 7 8 3 3 1 5 1\n",
      " 3 8 8 3 1 7 8 8 4 4 5 6 5 1 0 2 7 4 9 6 8 7 1 0 3 1 6 8 9 3 5 9 7 0 3 8 9\n",
      " 8 1 7 3 7 9 9 7 6 4 9 7 1 9 1 4 7 3 1 7 7 9 1 8 7 0 4 3 9 1 7 8 4 0 1 3 7\n",
      " 8 1 9 5 2 5 3 0 9 8 1 7 2 8 6 2 5 0 6 2 0 4 7 7 5 2 1 0 9 5 5 4 5 1 4 4 2\n",
      " 4 8 7 4 0 3 8 4 0 2 7 3 2 1 9 4 6 8 7 6 0 0 4 4 7 4 2 7 1 6 1 3 7 6 0 8 8\n",
      " 4 6 3 2 3 0 9 6 1 0 3 9 1 8 1 5 6 4 2 4 4 8 3 2 8 0 6 3 6 6 7 5 1 9 2 8 4\n",
      " 5 3 9 0 1 4 7 9 9 0 2 0 7 3 7 4 7 1 8 8 7 2 1 9 9 4 8 9 0 6 7 1 6 3 2 2 9\n",
      " 7 5 0 7 2 2 9 5 8 5 9 5 6 6 8 8 1 1 3 5 7 0 4 7 8 1 5 4 0 3 9 1 1 9 4 7 6\n",
      " 9 5 0 7 3 9 5 6 3 7 4 7 7 7 9 8 9 0 4 8 2 1 2 9 1 0 9 2 2 3 0 8 3 1 1 2 7\n",
      " 3 2 0 3 1 0 3 6 7 3 0 5 1 7 9 1 9 1 2 3 1 8 7 7 6 4 7 9 7 8 4 3 6 3 4 1 9\n",
      " 9 3 7 1 0 4 0 5 0 0 7 9 2 9 4 2 2 5 8 2 5 7 8 6 1 8 9 7 4 7 3 6 7 9 0 4 7\n",
      " 8 0 8 4 6 2 7 7 1 0 6 6 9 4 1 9 9 7 4 8 1 3 6 9 5 8 2 6 9 7 4 0 9 4 2 4 8\n",
      " 3 5 1 8 1 0 8 7 0 9 4 1 3 6 6 6 8 3 1 5 5 1 0 8 0 4 3 5 1 6 9 7 8 4 5 8 6\n",
      " 1 1 2 1 2 1 8 8 4 2 8 7 3 2 6 3 2 1 4 7 9 2 5 6 6 3 5 6 4 5 5 1 5 1 8 5 2\n",
      " 4 8 6 6 6 9 6 8 4 9 3 7 0 5 7 1 7 1 9 6 8 7 0 0 6 2 6 8 6 5 4 0 6 4 1 9 0\n",
      " 7 5 0 8 9 9 4 0 1 2 7 4 3 9 2 4 4 6 7 6 8 1 4 4 0 3 2 4 8 7 1 0 7 9 8 9 1\n",
      " 1 2 9 2 0 0 2 9 7 3 2 7 8 1 6 3 4 5 8 8 3 7 7 0 9 4 6 6 3 3 2 9 8 0 1 0 7\n",
      " 0]\n",
      "KNN 8 predictions: [9 4 5 7 0 2 1 8 1 1 3 5 9 0 0 1 7 0 1 9 4 3 8 4 6 9 3 6 8 3 8 1 2 7 1 4 2\n",
      " 5 9 7 7 7 0 2 6 1 4 1 3 3 5 5 5 0 9 1 9 4 4 4 9 6 5 9 5 1 5 9 1 0 4 7 1 0\n",
      " 0 7 5 6 9 3 4 1 0 6 3 8 4 5 3 3 8 3 3 1 1 6 6 4 1 9 5 9 6 5 8 6 0 5 4 3 2\n",
      " 9 4 9 0 0 7 9 6 0 0 9 6 7 0 1 6 9 2 0 7 3 6 0 3 6 4 6 4 6 2 6 3 8 5 4 1 7\n",
      " 8 2 8 2 8 7 7 7 0 0 5 0 2 6 1 0 4 6 8 5 5 2 0 6 0 8 6 1 6 9 0 0 3 4 5 1 1\n",
      " 4 6 3 4 9 8 6 2 6 0 2 5 2 9 2 5 5 5 1 9 3 0 7 6 8 8 6 5 7 6 2 1 9 1 8 2 2\n",
      " 1 9 0 4 7 0 1 9 1 0 5 4 3 7 5 4 9 9 0 5 2 8 1 0 9 6 9 7 3 8 6 2 7 7 6 3 3\n",
      " 4 3 3 4 4 3 0 9 7 9 3 5 9 2 6 6 2 0 7 0 6 3 9 3 0 7 6 6 1 7 0 4 1 1 7 6 5\n",
      " 1 7 5 0 0 6 3 9 0 6 9 9 0 5 3 7 5 4 7 1 7 8 4 2 3 9 4 2 7 0 2 7 8 0 9 3 3\n",
      " 8 5 0 1 8 0 8 7 7 6 1 7 4 7 7 6 3 5 4 1 2 4 6 8 9 1 9 5 9 5 5 0 6 1 3 2 8\n",
      " 6 9 0 1 6 3 4 0 4 1 7 5 3 8 4 0 1 9 7 1 4 0 2 7 8 2 9 7 3 7 7 8 3 3 1 5 1\n",
      " 3 8 8 3 1 7 8 8 4 4 5 6 5 1 0 2 7 4 9 6 8 7 1 0 3 1 6 8 9 3 5 9 7 0 3 3 9\n",
      " 8 1 7 3 7 9 9 7 6 4 9 7 1 9 1 4 9 3 1 7 7 9 1 8 7 0 4 3 9 1 7 8 4 0 1 3 7\n",
      " 8 1 9 5 2 5 3 0 7 8 1 7 7 8 6 2 5 0 6 2 0 6 7 7 5 2 1 0 9 5 5 4 5 1 4 4 2\n",
      " 4 8 7 4 0 3 8 4 0 2 7 3 2 1 9 4 6 8 7 6 0 0 4 4 7 4 2 7 1 6 1 3 7 6 0 8 8\n",
      " 4 6 3 2 3 0 9 6 1 0 3 9 1 8 1 5 6 4 2 4 4 8 3 2 8 0 6 3 6 6 7 5 1 9 2 8 4\n",
      " 5 3 9 0 1 4 7 9 9 0 2 0 7 3 7 4 7 1 8 8 7 2 1 9 9 4 8 9 0 6 7 1 6 3 2 2 9\n",
      " 7 9 0 9 2 2 9 5 5 5 9 5 6 6 8 8 1 1 3 5 7 0 4 7 8 1 5 4 0 3 9 1 1 9 4 7 6\n",
      " 9 5 0 7 3 9 5 6 3 7 4 7 7 7 9 8 9 0 4 8 2 1 2 9 1 0 9 2 2 3 0 8 3 1 1 2 7\n",
      " 3 2 0 3 1 0 3 6 7 3 0 5 1 7 9 1 9 1 2 3 1 8 7 7 6 9 7 9 7 8 5 3 6 3 4 1 9\n",
      " 9 3 3 7 0 4 0 5 0 0 7 9 2 9 4 2 2 5 8 2 5 7 8 6 1 8 9 7 4 7 3 6 7 9 0 4 7\n",
      " 8 0 8 4 6 2 7 7 1 0 6 6 9 4 1 9 9 7 4 8 1 3 6 9 5 8 2 6 9 7 4 9 9 4 2 4 8\n",
      " 6 5 1 8 1 0 8 7 0 1 4 1 3 6 6 6 8 3 1 5 5 1 0 8 0 4 3 5 1 6 9 7 8 4 5 8 6\n",
      " 1 1 2 1 2 1 8 8 4 2 8 7 3 2 6 3 2 1 4 7 9 2 5 6 6 3 5 6 4 5 5 1 5 1 5 5 2\n",
      " 4 8 6 6 6 2 6 8 4 9 3 7 0 5 7 1 7 1 9 6 8 7 0 0 6 2 6 8 6 5 4 0 6 4 1 9 0\n",
      " 7 5 0 8 9 7 4 0 1 2 7 4 3 9 2 4 4 6 7 6 8 1 4 4 0 3 2 4 8 7 1 0 7 9 8 9 1\n",
      " 1 2 9 2 0 0 2 9 7 3 2 9 8 1 6 3 4 5 8 5 3 7 7 0 9 4 6 6 3 3 2 9 8 0 1 0 7\n",
      " 0]\n",
      "KNN 8 predictions: [9 4 5 2 0 2 1 8 1 1 3 5 9 0 0 1 7 0 2 9 4 3 8 4 6 9 3 6 8 3 8 1 2 7 8 4 2\n",
      " 5 9 7 7 7 0 2 6 1 4 1 3 3 5 5 5 0 9 1 9 4 4 4 9 6 5 9 5 1 5 9 1 0 4 7 1 5\n",
      " 0 7 5 6 9 3 4 1 0 6 3 8 4 5 3 3 8 3 3 1 1 6 6 4 1 9 5 9 6 5 8 6 0 5 4 3 2\n",
      " 9 4 9 0 0 7 9 6 0 0 9 6 7 0 1 6 9 2 0 7 3 6 0 3 6 4 8 4 6 2 5 3 8 5 4 1 7\n",
      " 8 2 8 2 8 7 7 7 0 0 5 0 2 6 1 0 4 6 8 5 5 2 0 6 0 8 6 1 6 9 0 0 3 4 5 1 1\n",
      " 4 6 3 4 9 8 6 2 6 0 2 5 2 9 2 5 5 5 1 8 3 0 7 6 8 8 6 5 7 6 2 1 9 1 8 2 2\n",
      " 1 9 0 4 7 0 1 9 1 0 5 4 3 7 5 4 9 9 0 5 2 8 1 0 9 6 9 7 3 8 6 7 7 2 6 3 3\n",
      " 4 3 3 4 4 3 0 9 7 9 3 5 9 2 6 6 2 0 7 0 6 3 9 3 0 7 6 6 1 7 2 4 1 1 7 6 5\n",
      " 1 7 5 0 0 6 2 9 0 6 9 9 0 5 3 7 5 4 7 1 7 8 4 2 3 9 4 2 7 0 2 7 8 0 9 3 3\n",
      " 8 5 0 1 8 0 8 7 9 6 2 7 4 7 7 6 3 8 4 1 2 4 6 8 9 1 9 5 9 5 5 0 6 1 3 2 8\n",
      " 6 9 0 1 6 3 4 0 4 1 7 5 3 8 4 0 1 9 7 1 4 0 2 7 8 2 9 7 8 7 7 8 3 3 1 5 1\n",
      " 3 8 8 3 1 7 8 8 4 4 5 6 5 1 0 2 7 4 9 6 8 7 1 0 3 1 6 8 9 3 5 9 7 0 3 8 9\n",
      " 8 1 7 3 7 9 9 7 6 4 9 7 1 9 1 4 3 3 1 7 7 9 1 8 7 0 4 3 9 1 7 8 4 0 1 3 7\n",
      " 8 1 9 5 2 5 3 0 7 8 1 7 2 8 6 2 5 0 5 2 0 4 7 7 5 2 1 0 9 5 5 4 5 1 4 4 2\n",
      " 4 8 7 4 0 3 8 4 0 2 7 3 2 1 5 4 6 8 7 6 0 0 4 4 7 4 3 7 1 6 1 3 7 6 0 8 8\n",
      " 4 6 3 2 3 0 9 6 1 0 3 9 1 8 1 5 6 4 1 4 4 8 3 2 8 0 6 3 6 6 9 5 1 9 2 8 4\n",
      " 5 3 9 0 8 4 7 9 9 0 2 0 7 3 7 4 7 1 8 8 7 2 1 9 9 4 8 9 0 6 7 1 6 3 2 2 9\n",
      " 7 5 0 7 2 2 9 5 5 5 9 5 6 6 8 8 1 1 3 5 7 0 4 7 8 1 5 4 0 3 9 1 1 9 4 7 6\n",
      " 9 5 0 7 3 9 5 6 3 8 4 7 7 7 9 8 9 0 4 8 2 1 2 9 1 0 9 2 2 3 0 8 3 1 1 2 7\n",
      " 3 2 0 3 1 0 3 6 7 3 0 5 1 7 9 1 9 1 2 3 1 8 7 7 6 9 7 9 7 8 7 3 6 3 4 1 9\n",
      " 9 3 3 7 0 4 0 5 0 0 7 9 2 9 4 2 2 5 8 2 5 7 8 6 1 8 9 7 4 7 3 6 7 9 0 4 7\n",
      " 8 0 8 4 6 2 7 7 1 0 5 6 9 4 1 9 9 7 4 8 1 3 6 9 5 8 2 6 9 7 4 2 9 4 2 4 8\n",
      " 3 5 1 8 1 2 8 7 0 9 4 1 3 6 6 6 8 3 1 5 5 1 0 8 0 4 3 5 1 6 9 7 8 4 5 8 6\n",
      " 1 1 2 1 2 1 8 8 4 2 8 7 3 2 6 3 2 1 4 7 9 2 5 6 6 3 8 6 4 5 5 1 5 1 8 5 2\n",
      " 4 8 6 6 6 9 6 8 4 8 3 7 0 5 7 2 7 1 9 6 8 7 0 0 6 2 6 8 5 5 4 0 6 4 1 9 0\n",
      " 7 5 0 8 9 7 4 0 1 2 3 4 3 9 2 4 4 6 7 6 8 1 4 4 0 3 2 4 8 7 1 0 7 9 8 9 1\n",
      " 8 2 9 2 0 0 2 9 7 3 2 9 8 1 6 3 4 5 8 8 3 7 7 0 9 4 6 6 3 3 2 9 8 5 1 0 7\n",
      " 0]\n"
     ]
    }
   ],
   "source": [
    "print(\"KNN 2 predictions: {}\".format(knn_2_predictions))\n",
    "print(\"KNN 4 predictions: {}\".format(knn_4_predictions))\n",
    "print(\"KNN 8 predictions: {}\".format(knn_8_predictions))\n",
    "print(\"KNN 8 predictions: {}\".format(y_test_sample))"
   ]
  },
  {
   "cell_type": "code",
   "execution_count": 22,
   "metadata": {},
   "outputs": [
    {
     "name": "stdout",
     "output_type": "stream",
     "text": [
      "KNN 2 score: 0.951\n",
      "KNN 4 score: 0.957\n",
      "KNN 8 score: 0.956\n"
     ]
    }
   ],
   "source": [
    "# The score method uses the f1_score to calculate\n",
    "knn_2_score = knn_2.score(x_test_sample, y_test_sample)\n",
    "knn_4_score = knn_4.score(x_test_sample, y_test_sample)\n",
    "knn_8_score = knn_8.score(x_test_sample, y_test_sample)\n",
    "print(\"KNN 2 score: {}\".format(knn_2_score))\n",
    "print(\"KNN 4 score: {}\".format(knn_4_score))\n",
    "print(\"KNN 8 score: {}\".format(knn_8_score))"
   ]
  },
  {
   "cell_type": "code",
   "execution_count": 49,
   "metadata": {},
   "outputs": [],
   "source": [
    "# Get those pictures that were misclassified\n",
    "def get_misclassified_pictures(predictions):\n",
    "    index = 0\n",
    "    misclassifiedIndexes = []\n",
    "    for label, predict in zip(y_test_sample, predictions):\n",
    "        if label != predict: \n",
    "            misclassifiedIndexes.append(index)\n",
    "        index +=1\n",
    "    return misclassifiedIndexes"
   ]
  },
  {
   "cell_type": "code",
   "execution_count": 55,
   "metadata": {},
   "outputs": [],
   "source": [
    "# Get those pictures that were misclassified\n",
    "def get_misclassified_label(predictions):\n",
    "    index = 0\n",
    "    misclassifiedLabels = []\n",
    "    for label, predict in zip(y_test_sample, predictions):\n",
    "        if label != predict: \n",
    "            misclassifiedLabels.append(label)\n",
    "        index +=1\n",
    "    return misclassifiedLabels"
   ]
  },
  {
   "cell_type": "code",
   "execution_count": 58,
   "metadata": {},
   "outputs": [
    {
     "data": {
      "image/png": "[encoded data removed]",
      "text/plain": [
       "<Figure size 1440x288 with 5 Axes>"
      ]
     },
     "metadata": {
      "needs_background": "light"
     },
     "output_type": "display_data"
    },
    {
     "data": {
      "image/png": "[encoded data removed]",
      "text/plain": [
       "<Figure size 1440x288 with 5 Axes>"
      ]
     },
     "metadata": {
      "needs_background": "light"
     },
     "output_type": "display_data"
    },
    {
     "data": {
      "image/png": "[encoded data removed]",
      "text/plain": [
       "<Figure size 1440x288 with 5 Axes>"
      ]
     },
     "metadata": {
      "needs_background": "light"
     },
     "output_type": "display_data"
    }
   ],
   "source": [
    "def show_misclassified_pictures(predictions, misclassifiedIndexes):\n",
    "    #print (misclassifiedIndexes)\n",
    "    plt.figure(figsize=(20,4))\n",
    "    for plotIndex, badIndex in enumerate(misclassifiedIndexes[0:5]):\n",
    "        plt.subplot(1, 5, plotIndex + 1)\n",
    "        plt.imshow(np.reshape(X_train[badIndex], (28,28)), cmap=plt.cm.gray)\n",
    "        plt.title('Predicted: {}, Actual: {}'.format(predictions[badIndex], Y_train[badIndex]), fontsize = 15)\n",
    "        \n",
    "        \n",
    "knn_2_indexes = get_misclassified_pictures(knn_2_predictions)\n",
    "knn_4_indexes = get_misclassified_pictures(knn_4_predictions)\n",
    "knn_8_indexes = get_misclassified_pictures(knn_8_predictions)\n",
    "\n",
    "show_misclassified_pictures(knn_2_predictions, knn_2_indexes)\n",
    "show_misclassified_pictures(knn_4_predictions, knn_4_indexes)\n",
    "show_misclassified_pictures(knn_8_predictions, knn_8_indexes)"
   ]
  },
  {
   "cell_type": "code",
   "execution_count": 59,
   "metadata": {},
   "outputs": [
    {
     "name": "stdout",
     "output_type": "stream",
     "text": [
      "[2, 2, 4, 7, 5, 7, 8, 5, 8, 9, 7, 9, 9, 2, 9, 2, 5, 5, 3, 7, 2, 5, 5, 3, 9, 8, 8, 8, 8, 8, 9, 7, 3, 7, 2, 9, 8, 2, 8, 8, 9, 8, 2, 8, 5, 3, 8, 8, 5]\n",
      "[2, 2, 8, 7, 5, 3, 7, 8, 5, 7, 5, 8, 5, 7, 2, 9, 2, 3, 7, 5, 5, 3, 1, 9, 8, 5, 8, 9, 7, 3, 7, 5, 2, 2, 8, 8, 2, 5, 7, 3, 8, 9, 5]\n",
      "[2, 2, 8, 5, 8, 5, 8, 7, 2, 2, 2, 9, 2, 8, 8, 8, 3, 2, 5, 4, 5, 3, 1, 9, 8, 5, 7, 8, 7, 5, 2, 3, 2, 9, 8, 8, 9, 8, 2, 5, 3, 8, 8, 5]\n"
     ]
    }
   ],
   "source": [
    "print(get_misclassified_label(knn_2_predictions))\n",
    "print(get_misclassified_label(knn_4_predictions))\n",
    "print(get_misclassified_label(knn_8_predictions))"
   ]
  },
  {
   "cell_type": "markdown",
   "metadata": {},
   "source": [
    "Looking at the missclassified pictures we can tell that the KNN Algorithm has a very hard time classifying lable 1. The wrong prediction for a 1 is often a 7, which you can understand just looking at the plot yourself, the 1 and 7 looking very simialar often."
   ]
  },
  {
   "cell_type": "code",
   "execution_count": null,
   "metadata": {},
   "outputs": [],
   "source": []
  }
 ],
 "metadata": {
  "kernelspec": {
   "display_name": "Python 3",
   "language": "python",
   "name": "python3"
  },
  "language_info": {
   "codemirror_mode": {
    "name": "ipython",
    "version": 3
   },
   "file_extension": ".py",
   "mimetype": "text/x-python",
   "name": "python",
   "nbconvert_exporter": "python",
   "pygments_lexer": "ipython3",
   "version": "3.7.3"
  }
 },
 "nbformat": 4,
 "nbformat_minor": 2
}
