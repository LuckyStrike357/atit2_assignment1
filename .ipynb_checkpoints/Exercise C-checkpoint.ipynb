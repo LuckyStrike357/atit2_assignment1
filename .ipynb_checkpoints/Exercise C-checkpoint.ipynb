{
 "cells": [
  {
   "cell_type": "markdown",
   "metadata": {},
   "source": [
    "# C K-means MNIST\n",
    "\n",
    "- What is the majority class of each cluster?\n",
    "- What is the percentage of the majority class in each cluster?\n",
    "- Does each number have a cluster?\n",
    "- If not, which hasn’t?\n",
    "\n",
    "Do this for 10, 100, 1000 iterations"
   ]
  },
  {
   "cell_type": "code",
   "execution_count": 2,
   "metadata": {},
   "outputs": [],
   "source": [
    "import tensorflow as tf\n",
    "import numpy as np\n",
    "import matplotlib.pyplot as plt\n",
    "import seaborn as sns\n",
    "from sklearn.manifold import TSNE\n",
    "import scipy.spatial.distance\n",
    "\n",
    "from sklearn.cluster import KMeans\n",
    "from sklearn.metrics import f1_score\n",
    "import pandas as pd"
   ]
  },
  {
   "cell_type": "code",
   "execution_count": 38,
   "metadata": {},
   "outputs": [],
   "source": [
    "#load dataset\n",
    "\n",
    "train = tf.keras.datasets.mnist.load_data()[0]\n",
    "X_train, Y_train = train[0], train[1]\n",
    "\n",
    "n = X_train.shape[0]\n",
    "m = X_train.shape[1]**2\n",
    "\n",
    "X_train = X_train.reshape([n, m])"
   ]
  },
  {
   "cell_type": "code",
   "execution_count": 4,
   "metadata": {},
   "outputs": [],
   "source": [
    "#take subsamples\n",
    "\n",
    "n_sample = 1000\n",
    "idx = np.random.randint(n, size=n_sample)\n",
    "x_sample = X_train[idx]\n",
    "y_sample = Y_train[idx]\n",
    "\n",
    "k = 10"
   ]
  },
  {
   "cell_type": "code",
   "execution_count": 5,
   "metadata": {},
   "outputs": [],
   "source": [
    "# create KMeans models\n",
    "\n",
    "kmeans_10 = KMeans(n_clusters=10, max_iter=10).fit(x_sample)\n",
    "kmeans_100 = KMeans(n_clusters=10, max_iter=100).fit(x_sample)\n",
    "kmeans_1000 = KMeans(n_clusters=10, max_iter=1000).fit(x_sample)"
   ]
  },
  {
   "cell_type": "code",
   "execution_count": 71,
   "metadata": {},
   "outputs": [],
   "source": [
    "def calculate_scores(model):\n",
    "    scores = []\n",
    "    count = 0\n",
    "    \n",
    "    for i in range(10):\n",
    "        scores.append([])\n",
    "    \n",
    "    for value in model.labels_:\n",
    "        scores[value].append(y_sample[count])\n",
    "        count += 1\n",
    "        \n",
    "    return scores\n",
    "\n",
    "kmeans_10_scores = calculate_scores(kmeans_10)\n",
    "kmeans_100_scores = calculate_scores(kmeans_100)\n",
    "kmeans_1000_scores = calculate_scores(kmeans_1000)\n"
   ]
  },
  {
   "cell_type": "code",
   "execution_count": 75,
   "metadata": {},
   "outputs": [],
   "source": [
    "kmeans_10_clusters = []\n",
    "kmeans_100_clusters = []\n",
    "kmeans_1000_clusters = []\n",
    "for i in range(10):\n",
    "    # 10 iterations\n",
    "    local_array = np.bincount(kmeans_10_scores[:][i])\n",
    "    kmeans_10_clusters.append(local_array)\n",
    "    # 100 iterations\n",
    "    local_array = np.bincount(kmeans_100_scores[:][i])\n",
    "    kmeans_100_clusters.append(local_array)\n",
    "    #1000 iterations\n",
    "    local_array = np.bincount(kmeans_1000_scores[:][i])\n",
    "    kmeans_1000_clusters.append(local_array)"
   ]
  },
  {
   "cell_type": "code",
   "execution_count": 92,
   "metadata": {},
   "outputs": [
    {
     "name": "stdout",
     "output_type": "stream",
     "text": [
      "[5, 4, 2, 1, 7, 3, 0, 6, 6, 0]\n",
      "[8 9]\n",
      "[0.48484848484848486, 0.3691275167785235, 0.28688524590163933, 0.5954198473282443, 0.44755244755244755, 0.5078125, 0.896551724137931, 0.8214285714285714, 0.7733333333333333, 0.4722222222222222]\n"
     ]
    }
   ],
   "source": [
    "def calc_cluster_percentage(cluster):\n",
    "\n",
    "    percentages = []\n",
    "    \n",
    "    for array in cluster:\n",
    "        max_idx = np.where(array == max(array))[0]\n",
    "        if len(max_idx) == 1:    \n",
    "            percentages.append(max(array) / sum(array))\n",
    "        else:\n",
    "            percentages.append(-1)\n",
    "\n",
    "    return(percentages)\n",
    "\n",
    "def get_majority_labels(cluster):\n",
    "    \n",
    "    labels = []\n",
    "    \n",
    "    for array in cluster:\n",
    "        max_idx = np.where(array == max(array))[0]\n",
    "        if len(max_idx) == 1:    \n",
    "            labels.append(max_idx[0])\n",
    "        else:\n",
    "            labels.append(-1)\n",
    "    \n",
    "    return labels\n",
    "    \n",
    "def get_missing_labels(labels):\n",
    "    classes = np.arange(10)\n",
    "    return np.where(np.isin(classes, labels) == False)[0]\n",
    "\n",
    "cluster_10_perc = calc_cluster_percentage(kmeans_10_clusters)\n",
    "cluster_10_labels = get_majority_labels(kmeans_10_clusters)\n",
    "\n",
    "print(cluster_10_labels)\n",
    "print(get_missing_labels(cluster_10_labels))\n",
    "print(cluster_10_perc)\n",
    "\n",
    "#perc_maj_cluster_100 = calc_cluster_percentage(kmeans_100_clusters)\n",
    "#perc_maj_cluster_1000 = calc_cluster_percentage(kmeans_1000_clusters)\n"
   ]
  },
  {
   "cell_type": "code",
   "execution_count": 56,
   "metadata": {},
   "outputs": [
    {
     "data": {
      "text/html": [
       "<div>\n",
       "<style scoped>\n",
       "    .dataframe tbody tr th:only-of-type {\n",
       "        vertical-align: middle;\n",
       "    }\n",
       "\n",
       "    .dataframe tbody tr th {\n",
       "        vertical-align: top;\n",
       "    }\n",
       "\n",
       "    .dataframe thead th {\n",
       "        text-align: right;\n",
       "    }\n",
       "</style>\n",
       "<table border=\"1\" class=\"dataframe\">\n",
       "  <thead>\n",
       "    <tr style=\"text-align: right;\">\n",
       "      <th></th>\n",
       "      <th>10</th>\n",
       "      <th>100</th>\n",
       "      <th>1000</th>\n",
       "    </tr>\n",
       "  </thead>\n",
       "  <tbody>\n",
       "    <tr>\n",
       "      <th>0</th>\n",
       "      <td>0.484848</td>\n",
       "      <td>0.675000</td>\n",
       "      <td>0.842105</td>\n",
       "    </tr>\n",
       "    <tr>\n",
       "      <th>1</th>\n",
       "      <td>0.369128</td>\n",
       "      <td>0.919540</td>\n",
       "      <td>0.371901</td>\n",
       "    </tr>\n",
       "    <tr>\n",
       "      <th>2</th>\n",
       "      <td>0.286885</td>\n",
       "      <td>0.819672</td>\n",
       "      <td>0.307018</td>\n",
       "    </tr>\n",
       "    <tr>\n",
       "      <th>3</th>\n",
       "      <td>0.595420</td>\n",
       "      <td>0.450704</td>\n",
       "      <td>0.341667</td>\n",
       "    </tr>\n",
       "    <tr>\n",
       "      <th>4</th>\n",
       "      <td>0.447552</td>\n",
       "      <td>0.488372</td>\n",
       "      <td>0.578125</td>\n",
       "    </tr>\n",
       "    <tr>\n",
       "      <th>5</th>\n",
       "      <td>0.507812</td>\n",
       "      <td>0.636364</td>\n",
       "      <td>0.818182</td>\n",
       "    </tr>\n",
       "    <tr>\n",
       "      <th>6</th>\n",
       "      <td>0.896552</td>\n",
       "      <td>0.335821</td>\n",
       "      <td>0.567568</td>\n",
       "    </tr>\n",
       "    <tr>\n",
       "      <th>7</th>\n",
       "      <td>0.821429</td>\n",
       "      <td>0.383562</td>\n",
       "      <td>0.722892</td>\n",
       "    </tr>\n",
       "    <tr>\n",
       "      <th>8</th>\n",
       "      <td>0.773333</td>\n",
       "      <td>0.718750</td>\n",
       "      <td>0.712644</td>\n",
       "    </tr>\n",
       "    <tr>\n",
       "      <th>9</th>\n",
       "      <td>0.472222</td>\n",
       "      <td>0.768116</td>\n",
       "      <td>0.422360</td>\n",
       "    </tr>\n",
       "  </tbody>\n",
       "</table>\n",
       "</div>"
      ],
      "text/plain": [
       "         10       100      1000\n",
       "0  0.484848  0.675000  0.842105\n",
       "1  0.369128  0.919540  0.371901\n",
       "2  0.286885  0.819672  0.307018\n",
       "3  0.595420  0.450704  0.341667\n",
       "4  0.447552  0.488372  0.578125\n",
       "5  0.507812  0.636364  0.818182\n",
       "6  0.896552  0.335821  0.567568\n",
       "7  0.821429  0.383562  0.722892\n",
       "8  0.773333  0.718750  0.712644\n",
       "9  0.472222  0.768116  0.422360"
      ]
     },
     "execution_count": 56,
     "metadata": {},
     "output_type": "execute_result"
    }
   ],
   "source": [
    "combined_percentages = [perc_maj_cluster_10, perc_maj_cluster_100, perc_maj_cluster_1000]\n",
    "df1 = pd.DataFrame(np.array(combined_percentages).T, columns=[\"10\",\"100\",\"1000\"])\n",
    "np.array(combined_percentages).T\n",
    "df1"
   ]
  }
 ],
 "metadata": {
  "kernelspec": {
   "display_name": "Python 3",
   "language": "python",
   "name": "python3"
  },
  "language_info": {
   "codemirror_mode": {
    "name": "ipython",
    "version": 3
   },
   "file_extension": ".py",
   "mimetype": "text/x-python",
   "name": "python",
   "nbconvert_exporter": "python",
   "pygments_lexer": "ipython3",
   "version": "3.7.3"
  }
 },
 "nbformat": 4,
 "nbformat_minor": 2
}
