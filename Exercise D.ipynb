{
 "cells": [
  {
   "cell_type": "markdown",
   "metadata": {},
   "source": [
    "# D MNIST understanding\n",
    "\n",
    "Some numbers are more difficult to predict with KNN and to cluster with K-means. Show why. Start with examples, and get more general"
   ]
  },
  {
   "cell_type": "code",
   "execution_count": 1,
   "metadata": {},
   "outputs": [],
   "source": [
    "import tensorflow as tf\n",
    "import numpy as np\n",
    "import matplotlib.pyplot as plt\n",
    "import seaborn as sns\n",
    "from sklearn.manifold import TSNE\n",
    "import scipy.spatial.distance\n",
    "from sklearn.metrics import f1_score\n",
    "import pandas as pd\n",
    "\n",
    "plt.set_cmap('gray')"
   ]
  },
  {
   "cell_type": "markdown",
   "metadata": {},
   "source": [
    "## From B:\n",
    "# load dataset"
   ]
  },
  {
   "cell_type": "code",
   "execution_count": 2,
   "metadata": {},
   "outputs": [],
   "source": [
    "train = tf.keras.datasets.mnist.load_data()[0]\n",
    "X_train, Y_train = train[0], train[1]\n",
    "\n",
    "test = tf.keras.datasets.mnist.load_data()[1]\n",
    "X_test, Y_test = test[0], test[1]\n",
    "\n",
    "n_train = X_train.shape[0]\n",
    "n_test = X_test.shape[0]\n",
    "\n",
    "m = X_train.shape[1]**2"
   ]
  },
  {
   "cell_type": "code",
   "execution_count": 3,
   "metadata": {},
   "outputs": [],
   "source": [
    "X_train = X_train.reshape([n_train, m])\n",
    "X_test = X_test.reshape([n_test, m])\n",
    "\n",
    "idx = np.random.randint(n_train, size=10000)\n",
    "x_train_sample = X_train[idx]\n",
    "y_train_sample = Y_train[idx]\n",
    "\n",
    "idx = np.random.randint(n_test, size=100)\n",
    "x_test_sample = X_test[idx]\n",
    "y_test_sample = Y_test[idx]\n",
    "#print(idx)\n",
    "karray = [2, 4, 8]"
   ]
  },
  {
   "cell_type": "markdown",
   "metadata": {},
   "source": [
    "Function for f1 score"
   ]
  },
  {
   "cell_type": "code",
   "execution_count": 4,
   "metadata": {},
   "outputs": [
    {
     "name": "stdout",
     "output_type": "stream",
     "text": [
      "The error rate for KNN with k = 3 on this Dataset is 0.049000000000000044\n"
     ]
    }
   ],
   "source": [
    "def f1score(k):\n",
    "    dists = scipy.spatial.distance.cdist(x_train_sample, x_test_sample, metric='euclid')\n",
    "    idx_nearest = np.argpartition(dists, k, axis = 0)[:k]\n",
    "    nearest_dists = np.take(x_train_sample, idx)\n",
    "    \n",
    "    pred = y_train_sample[idx_nearest]\n",
    "    pred = np.ndarray.transpose(pred)\n",
    "    actuals = y_test_sample\n",
    "    prediction = np.array([])\n",
    "    \n",
    "    for row in pred:\n",
    "        count = np.bincount(row)\n",
    "        prediction = np.append(prediction, int(np.argmax(count)))\n",
    "    \n",
    "    prediction = prediction.astype(int)\n",
    "    '''We use 1-f1_score since it is an better indicator of quality than the error rate.'''\n",
    "    calcf1score = f1_score(actuals, prediction, average = 'micro')\n",
    "    print (\"The error rate for KNN with k = {} on this Dataset is {}\".format(k, (1 - calcf1score)))\n",
    "f1score(3)"
   ]
  },
  {
   "cell_type": "code",
   "execution_count": 5,
   "metadata": {
    "scrolled": true
   },
   "outputs": [
    {
     "name": "stdout",
     "output_type": "stream",
     "text": [
      "The error rate for KNN with k = 2 on this Dataset is 0.05900000000000005\n",
      "The error rate for KNN with k = 4 on this Dataset is 0.05400000000000005\n",
      "The error rate for KNN with k = 8 on this Dataset is 0.05600000000000005\n"
     ]
    }
   ],
   "source": [
    "results = []\n",
    "def endresult():\n",
    "    for k in karray:\n",
    "        result_array = []\n",
    "        dists = scipy.spatial.distance.cdist(x_train_sample, x_test_sample, metric='euclid')\n",
    "        idx_nearest = np.argpartition(dists, k, axis = 0)[:k]\n",
    "        nearest_dists = np.take(x_train_sample, idx)\n",
    "    \n",
    "        pred = y_train_sample[idx_nearest]\n",
    "        pred = np.ndarray.transpose(pred)\n",
    "        actuals = y_test_sample\n",
    "        prediction = np.array([])\n",
    "\n",
    "        for row in pred:\n",
    "            count = np.bincount(row)\n",
    "            prediction = np.append(prediction, int(np.argmax(count)))\n",
    "    \n",
    "        prediction = prediction.astype(int)\n",
    "        '''We use 1-f1_score since it is an better indicator of quality than the error rate because it considers false\n",
    "        postives as well as false negatives.'''\n",
    "        calcf1score = f1_score(actuals, prediction, average = 'micro')\n",
    "        print (\"The error rate for KNN with k = {} on this Dataset is {}\".format(k, (1 - calcf1score)))\n",
    "        \n",
    "        for i in range(10):\n",
    "            indices = np.where(actuals == i)\n",
    "            f1 = 1-(f1_score(actuals[indices], prediction[indices], average = 'micro'))\n",
    "            result_array.append(f1)\n",
    "            \n",
    "        results.append(result_array)\n",
    "               \n",
    "endresult()"
   ]
  },
  {
   "cell_type": "code",
   "execution_count": 6,
   "metadata": {},
   "outputs": [
    {
     "data": {
      "text/html": [
       "<div>\n",
       "<style scoped>\n",
       "    .dataframe tbody tr th:only-of-type {\n",
       "        vertical-align: middle;\n",
       "    }\n",
       "\n",
       "    .dataframe tbody tr th {\n",
       "        vertical-align: top;\n",
       "    }\n",
       "\n",
       "    .dataframe thead th {\n",
       "        text-align: right;\n",
       "    }\n",
       "</style>\n",
       "<table border=\"1\" class=\"dataframe\">\n",
       "  <thead>\n",
       "    <tr style=\"text-align: right;\">\n",
       "      <th></th>\n",
       "      <th>k = 2</th>\n",
       "      <th>k = 4</th>\n",
       "      <th>k = 8</th>\n",
       "    </tr>\n",
       "  </thead>\n",
       "  <tbody>\n",
       "    <tr>\n",
       "      <td>0</td>\n",
       "      <td>0.012048</td>\n",
       "      <td>0.012048</td>\n",
       "      <td>0.012048</td>\n",
       "    </tr>\n",
       "    <tr>\n",
       "      <td>1</td>\n",
       "      <td>0.000000</td>\n",
       "      <td>0.000000</td>\n",
       "      <td>0.000000</td>\n",
       "    </tr>\n",
       "    <tr>\n",
       "      <td>2</td>\n",
       "      <td>0.103774</td>\n",
       "      <td>0.141509</td>\n",
       "      <td>0.160377</td>\n",
       "    </tr>\n",
       "    <tr>\n",
       "      <td>3</td>\n",
       "      <td>0.008772</td>\n",
       "      <td>0.026316</td>\n",
       "      <td>0.043860</td>\n",
       "    </tr>\n",
       "    <tr>\n",
       "      <td>4</td>\n",
       "      <td>0.056604</td>\n",
       "      <td>0.066038</td>\n",
       "      <td>0.066038</td>\n",
       "    </tr>\n",
       "    <tr>\n",
       "      <td>5</td>\n",
       "      <td>0.098039</td>\n",
       "      <td>0.078431</td>\n",
       "      <td>0.078431</td>\n",
       "    </tr>\n",
       "    <tr>\n",
       "      <td>6</td>\n",
       "      <td>0.031250</td>\n",
       "      <td>0.010417</td>\n",
       "      <td>0.010417</td>\n",
       "    </tr>\n",
       "    <tr>\n",
       "      <td>7</td>\n",
       "      <td>0.034091</td>\n",
       "      <td>0.045455</td>\n",
       "      <td>0.068182</td>\n",
       "    </tr>\n",
       "    <tr>\n",
       "      <td>8</td>\n",
       "      <td>0.123711</td>\n",
       "      <td>0.082474</td>\n",
       "      <td>0.061856</td>\n",
       "    </tr>\n",
       "    <tr>\n",
       "      <td>9</td>\n",
       "      <td>0.113208</td>\n",
       "      <td>0.066038</td>\n",
       "      <td>0.047170</td>\n",
       "    </tr>\n",
       "  </tbody>\n",
       "</table>\n",
       "</div>"
      ],
      "text/plain": [
       "      k = 2     k = 4     k = 8\n",
       "0  0.012048  0.012048  0.012048\n",
       "1  0.000000  0.000000  0.000000\n",
       "2  0.103774  0.141509  0.160377\n",
       "3  0.008772  0.026316  0.043860\n",
       "4  0.056604  0.066038  0.066038\n",
       "5  0.098039  0.078431  0.078431\n",
       "6  0.031250  0.010417  0.010417\n",
       "7  0.034091  0.045455  0.068182\n",
       "8  0.123711  0.082474  0.061856\n",
       "9  0.113208  0.066038  0.047170"
      ]
     },
     "execution_count": 6,
     "metadata": {},
     "output_type": "execute_result"
    }
   ],
   "source": [
    "pd.DataFrame(np.array(results).T, columns=[\"k = 2\", \"k = 4\", \"k = 8\"])"
   ]
  },
  {
   "cell_type": "markdown",
   "metadata": {},
   "source": [
    "- As you can see KNN works best when k is 2. \n",
    "- The most mistakes tend to happen on 9s and 8s."
   ]
  },
  {
   "cell_type": "markdown",
   "metadata": {},
   "source": [
    "## So let´s further analyse these labels!"
   ]
  },
  {
   "cell_type": "code",
   "execution_count": 92,
   "metadata": {},
   "outputs": [
    {
     "name": "stdout",
     "output_type": "stream",
     "text": [
      "The error rate for KNN with k = 2 on this Dataset is 0.05900000000000005\n",
      "[101, 117, 181, 263, 269, 409, 715, 716, 781, 852, 855, 996]\n"
     ]
    },
    {
     "data": {
      "image/png": "[encoded data removed]",
      "text/plain": [
       "<Figure size 1440x288 with 5 Axes>"
      ]
     },
     "metadata": {
      "needs_background": "light"
     },
     "output_type": "display_data"
    }
   ],
   "source": [
    "k = 2\n",
    "dists = scipy.spatial.distance.cdist(x_train_sample, x_test_sample, metric='euclid')\n",
    "idx_nearest = np.argpartition(dists, k, axis = 0)[:k]\n",
    "nearest_dists = np.take(x_train_sample, idx)\n",
    "    \n",
    "pred = y_train_sample[idx_nearest]\n",
    "pred = np.ndarray.transpose(pred)\n",
    "actuals = y_test_sample\n",
    "prediction = np.array([])\n",
    "    \n",
    "for row in pred:\n",
    "    count = np.bincount(row)\n",
    "    prediction = np.append(prediction, int(np.argmax(count)))\n",
    "    \n",
    "prediction = prediction.astype(int)\n",
    "'''We use 1-f1_score since it is an better indicator of quality than the error rate.'''\n",
    "calcf1score = f1_score(actuals, prediction, average = 'micro')\n",
    "print (\"The error rate for KNN with k = {} on this Dataset is {}\".format(k, (1 - calcf1score)))\n",
    "\n",
    "\n",
    "def get_misclassified_8s(predictions):\n",
    "    index = 0\n",
    "    misclassifiedIndexes = []\n",
    "    for label, predict in zip(y_test_sample, predictions):\n",
    "        if label == 8 and label != predict: \n",
    "            misclassifiedIndexes.append(index)\n",
    "        index +=1\n",
    "    return misclassifiedIndexes\n",
    "\n",
    "print(get_misclassified_8s(prediction))\n",
    "\n",
    "misclassifiedIndexes = get_misclassified_8s(prediction)\n",
    "plt.figure(figsize=(20,4))\n",
    "for plotIndex, badIndex in enumerate(misclassifiedIndexes[0:5]):\n",
    "    plt.subplot(1, 5, plotIndex + 1)\n",
    "    plt.imshow(np.reshape(x_test_sample[badIndex], (28,28)), cmap=plt.cm.gray)\n",
    "    plt.title('Predicted: {}, Actual: {}'.format(prediction[badIndex], y_test_sample[badIndex]), fontsize = 15)"
   ]
  },
  {
   "cell_type": "code",
   "execution_count": 93,
   "metadata": {},
   "outputs": [
    {
     "data": {
      "image/png": "[encoded data removed]",
      "text/plain": [
       "<Figure size 1440x288 with 5 Axes>"
      ]
     },
     "metadata": {
      "needs_background": "light"
     },
     "output_type": "display_data"
    }
   ],
   "source": [
    "plt.figure(figsize=(20,4))\n",
    "for plotIndex, badIndex in enumerate(misclassifiedIndexes[5:10]):\n",
    "    plt.subplot(1, 5, plotIndex + 1)\n",
    "    plt.imshow(np.reshape(x_test_sample[badIndex], (28,28)), cmap=plt.cm.gray)\n",
    "    plt.title('Predicted: {}, Actual: {}'.format(prediction[badIndex], y_test_sample[badIndex]), fontsize = 15)"
   ]
  },
  {
   "cell_type": "markdown",
   "metadata": {},
   "source": [
    "Some of these are written very strangely so you can imagine how the algorithm can have difficulties here.\n",
    "Most of the time when KNN is wrong it  predicts the 8s as 3s.\n",
    "So lets look at this label."
   ]
  },
  {
   "cell_type": "code",
   "execution_count": 71,
   "metadata": {},
   "outputs": [
    {
     "name": "stdout",
     "output_type": "stream",
     "text": [
      "(array([  16,   18,   27, ..., 9939, 9967, 9984], dtype=int64),)\n"
     ]
    },
    {
     "data": {
      "text/plain": [
       "<matplotlib.image.AxesImage at 0x209d60e84a8>"
      ]
     },
     "execution_count": 71,
     "metadata": {},
     "output_type": "execute_result"
    },
    {
     "data": {
      "image/png": "[encoded data removed]",
      "text/plain": [
       "<Figure size 432x288 with 1 Axes>"
      ]
     },
     "metadata": {
      "needs_background": "light"
     },
     "output_type": "display_data"
    }
   ],
   "source": [
    "all3s = np.where(y_train_sample == 3) \n",
    "print(all3s)\n",
    "\n",
    "plt.imshow(np.reshape(x_train_sample[9984], (28,28)))"
   ]
  },
  {
   "cell_type": "code",
   "execution_count": 72,
   "metadata": {},
   "outputs": [
    {
     "data": {
      "text/plain": [
       "<matplotlib.image.AxesImage at 0x209d6713278>"
      ]
     },
     "execution_count": 72,
     "metadata": {},
     "output_type": "execute_result"
    },
    {
     "data": {
      "image/png": "[encoded data removed]",
      "text/plain": [
       "<Figure size 432x288 with 1 Axes>"
      ]
     },
     "metadata": {
      "needs_background": "light"
     },
     "output_type": "display_data"
    }
   ],
   "source": [
    "plt.imshow(np.reshape(x_train_sample[9967], (28,28)))"
   ]
  },
  {
   "cell_type": "code",
   "execution_count": 73,
   "metadata": {},
   "outputs": [
    {
     "data": {
      "text/plain": [
       "<matplotlib.image.AxesImage at 0x209d6d812e8>"
      ]
     },
     "execution_count": 73,
     "metadata": {},
     "output_type": "execute_result"
    },
    {
     "data": {
      "image/png": "[encoded data removed]",
      "text/plain": [
       "<Figure size 432x288 with 1 Axes>"
      ]
     },
     "metadata": {
      "needs_background": "light"
     },
     "output_type": "display_data"
    }
   ],
   "source": [
    "plt.imshow(np.reshape(x_train_sample[27], (28,28)))"
   ]
  },
  {
   "cell_type": "markdown",
   "metadata": {},
   "source": [
    "You can see how it can be difficult for an algortihm to differentiate between an 8 and a 3 since sometimes there are only a few lines missing from 3 to 8."
   ]
  },
  {
   "cell_type": "markdown",
   "metadata": {},
   "source": [
    "In general there are many numbers in the Dataset, that are written in a way that makes them look like they´re from a different label. Since the numbers are stored in a pretty simple way (28*28 vector) mistakes can happen easier:\n",
    "7s and 1s can look very simialar, as well as 9s and 5s  or 5s and 6s and also as prior said 3s and 8s.\n",
    "This counts for K-Means as well since it also uses the same distance-calculation to cluster."
   ]
  },
  {
   "cell_type": "code",
   "execution_count": null,
   "metadata": {},
   "outputs": [],
   "source": []
  }
 ],
 "metadata": {
  "kernelspec": {
   "display_name": "Python 3",
   "language": "python",
   "name": "python3"
  },
  "language_info": {
   "codemirror_mode": {
    "name": "ipython",
    "version": 3
   },
   "file_extension": ".py",
   "mimetype": "text/x-python",
   "name": "python",
   "nbconvert_exporter": "python",
   "pygments_lexer": "ipython3",
   "version": "3.7.3"
  }
 },
 "nbformat": 4,
 "nbformat_minor": 2
}
