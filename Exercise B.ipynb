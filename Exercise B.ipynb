{
 "cells": [
  {
   "cell_type": "markdown",
   "metadata": {},
   "source": [
    "# B KNN MNIST\n",
    "\n",
    "- What is the error rate of KNN on the test set?\n",
    "- What is the error rate for each label (number)?\n",
    "\n",
    "Do for k = 2, 4, 8\n",
    "- How does the choice of k influence the results?"
   ]
  },
  {
   "cell_type": "code",
   "execution_count": 482,
   "metadata": {},
   "outputs": [
    {
     "data": {
      "text/plain": [
       "<Figure size 432x288 with 0 Axes>"
      ]
     },
     "metadata": {},
     "output_type": "display_data"
    }
   ],
   "source": [
    "import tensorflow as tf\n",
    "import numpy as np\n",
    "import matplotlib.pyplot as plt\n",
    "import seaborn as sns\n",
    "from sklearn.manifold import TSNE\n",
    "import scipy.spatial.distance\n",
    "from sklearn.metrics import f1_score\n",
    "import pandas as pd\n",
    "\n",
    "plt.set_cmap('gray')"
   ]
  },
  {
   "cell_type": "markdown",
   "metadata": {},
   "source": [
    "# load dataset"
   ]
  },
  {
   "cell_type": "code",
   "execution_count": 483,
   "metadata": {},
   "outputs": [],
   "source": [
    "train = tf.keras.datasets.mnist.load_data()[0]\n",
    "X_train, Y_train = train[0], train[1]\n",
    "\n",
    "test = tf.keras.datasets.mnist.load_data()[1]\n",
    "X_test, Y_test = test[0], test[1]\n",
    "\n",
    "n_train = X_train.shape[0]\n",
    "n_test = X_test.shape[0]\n",
    "\n",
    "m = X_train.shape[1]**2"
   ]
  },
  {
   "cell_type": "code",
   "execution_count": 484,
   "metadata": {},
   "outputs": [],
   "source": [
    "X_train = X_train.reshape([n_train, m])\n",
    "X_test = X_test.reshape([n_test, m])\n",
    "\n",
    "idx = np.random.randint(n_train, size=10000)\n",
    "x_train_sample = X_train[idx]\n",
    "y_train_sample = Y_train[idx]\n",
    "\n",
    "idx = np.random.randint(n_test, size=100)\n",
    "x_test_sample = X_test[idx]\n",
    "y_test_sample = Y_test[idx]\n",
    "#print(idx)\n",
    "karray = [2, 4, 8]"
   ]
  },
  {
   "cell_type": "markdown",
   "metadata": {},
   "source": [
    "Function for f1 score"
   ]
  },
  {
   "cell_type": "code",
   "execution_count": 485,
   "metadata": {},
   "outputs": [],
   "source": [
    "def f1score(k):\n",
    "    dists = scipy.spatial.distance.cdist(x_train_sample, x_test_sample, metric='euclid')\n",
    "    idx_nearest = np.argpartition(dists, k, axis = 0)[:k]\n",
    "    nearest_dists = np.take(x_train_sample, idx)\n",
    "    \n",
    "    pred = y_train_sample[idx_nearest]\n",
    "    pred = np.ndarray.transpose(pred)\n",
    "    actuals = y_test_sample\n",
    "    prediction = np.array([])\n",
    "\n",
    "    for row in pred:\n",
    "        count = np.bincount(row)\n",
    "        prediction = np.append(prediction, int(np.argmax(count)))\n",
    "    \n",
    "    prediction = prediction.astype(int)\n",
    "    '''We use 1-f1_score since it is an better indicator of quality than the error rate.'''\n",
    "    calcf1score = f1_score(actuals, prediction, average = 'micro')\n",
    "    print (\"The error rate for KNN with k = {} on this Dataset is {}\".format(k, (1 - calcf1score)))"
   ]
  },
  {
   "cell_type": "code",
   "execution_count": 486,
   "metadata": {
    "scrolled": true
   },
   "outputs": [
    {
     "name": "stdout",
     "output_type": "stream",
     "text": [
      "The error rate for KNN with k = 2 on this Dataset is 0.06999999999999995\n",
      "The error rate for KNN with k = 4 on this Dataset is 0.040000000000000036\n",
      "The error rate for KNN with k = 8 on this Dataset is 0.06000000000000005\n"
     ]
    }
   ],
   "source": [
    "results = []\n",
    "def endresult():\n",
    "    for k in karray:\n",
    "        result_array = []\n",
    "        dists = scipy.spatial.distance.cdist(x_train_sample, x_test_sample, metric='euclid')\n",
    "        idx_nearest = np.argpartition(dists, k, axis = 0)[:k]\n",
    "        nearest_dists = np.take(x_train_sample, idx)\n",
    "    \n",
    "        pred = y_train_sample[idx_nearest]\n",
    "        pred = np.ndarray.transpose(pred)\n",
    "        actuals = y_test_sample\n",
    "        prediction = np.array([])\n",
    "\n",
    "        for row in pred:\n",
    "            count = np.bincount(row)\n",
    "            prediction = np.append(prediction, int(np.argmax(count)))\n",
    "    \n",
    "        prediction = prediction.astype(int)\n",
    "        '''We use 1-f1_score since it is an better indicator of quality than the error rate.'''\n",
    "        calcf1score = f1_score(actuals, prediction, average = 'micro')\n",
    "        print (\"The error rate for KNN with k = {} on this Dataset is {}\".format(k, (1 - calcf1score)))\n",
    "\n",
    "        for i in range(10):\n",
    "            indices = np.where(actuals == i)\n",
    "            f1 = 1-(f1_score(actuals[indices], prediction[indices], average = 'micro'))\n",
    "            result_array.append(f1)\n",
    "            \n",
    "        results.append(result_array)\n",
    "               \n",
    "endresult()"
   ]
  },
  {
   "cell_type": "code",
   "execution_count": 487,
   "metadata": {},
   "outputs": [
    {
     "data": {
      "text/html": [
       "<div>\n",
       "<style scoped>\n",
       "    .dataframe tbody tr th:only-of-type {\n",
       "        vertical-align: middle;\n",
       "    }\n",
       "\n",
       "    .dataframe tbody tr th {\n",
       "        vertical-align: top;\n",
       "    }\n",
       "\n",
       "    .dataframe thead th {\n",
       "        text-align: right;\n",
       "    }\n",
       "</style>\n",
       "<table border=\"1\" class=\"dataframe\">\n",
       "  <thead>\n",
       "    <tr style=\"text-align: right;\">\n",
       "      <th></th>\n",
       "      <th>k = 2</th>\n",
       "      <th>k = 4</th>\n",
       "      <th>k = 8</th>\n",
       "    </tr>\n",
       "  </thead>\n",
       "  <tbody>\n",
       "    <tr>\n",
       "      <th>0</th>\n",
       "      <td>0.000000</td>\n",
       "      <td>0.000000</td>\n",
       "      <td>0.000000</td>\n",
       "    </tr>\n",
       "    <tr>\n",
       "      <th>1</th>\n",
       "      <td>0.000000</td>\n",
       "      <td>0.000000</td>\n",
       "      <td>0.000000</td>\n",
       "    </tr>\n",
       "    <tr>\n",
       "      <th>2</th>\n",
       "      <td>0.000000</td>\n",
       "      <td>0.000000</td>\n",
       "      <td>0.000000</td>\n",
       "    </tr>\n",
       "    <tr>\n",
       "      <th>3</th>\n",
       "      <td>0.000000</td>\n",
       "      <td>0.000000</td>\n",
       "      <td>0.142857</td>\n",
       "    </tr>\n",
       "    <tr>\n",
       "      <th>4</th>\n",
       "      <td>0.000000</td>\n",
       "      <td>0.000000</td>\n",
       "      <td>0.000000</td>\n",
       "    </tr>\n",
       "    <tr>\n",
       "      <th>5</th>\n",
       "      <td>0.000000</td>\n",
       "      <td>0.000000</td>\n",
       "      <td>0.000000</td>\n",
       "    </tr>\n",
       "    <tr>\n",
       "      <th>6</th>\n",
       "      <td>0.000000</td>\n",
       "      <td>0.000000</td>\n",
       "      <td>0.000000</td>\n",
       "    </tr>\n",
       "    <tr>\n",
       "      <th>7</th>\n",
       "      <td>0.000000</td>\n",
       "      <td>0.000000</td>\n",
       "      <td>0.000000</td>\n",
       "    </tr>\n",
       "    <tr>\n",
       "      <th>8</th>\n",
       "      <td>0.454545</td>\n",
       "      <td>0.272727</td>\n",
       "      <td>0.363636</td>\n",
       "    </tr>\n",
       "    <tr>\n",
       "      <th>9</th>\n",
       "      <td>0.285714</td>\n",
       "      <td>0.142857</td>\n",
       "      <td>0.142857</td>\n",
       "    </tr>\n",
       "  </tbody>\n",
       "</table>\n",
       "</div>"
      ],
      "text/plain": [
       "      k = 2     k = 4     k = 8\n",
       "0  0.000000  0.000000  0.000000\n",
       "1  0.000000  0.000000  0.000000\n",
       "2  0.000000  0.000000  0.000000\n",
       "3  0.000000  0.000000  0.142857\n",
       "4  0.000000  0.000000  0.000000\n",
       "5  0.000000  0.000000  0.000000\n",
       "6  0.000000  0.000000  0.000000\n",
       "7  0.000000  0.000000  0.000000\n",
       "8  0.454545  0.272727  0.363636\n",
       "9  0.285714  0.142857  0.142857"
      ]
     },
     "execution_count": 487,
     "metadata": {},
     "output_type": "execute_result"
    }
   ],
   "source": [
    "pd.DataFrame(np.array(results).T, columns=[\"k = 2\", \"k = 4\", \"k = 8\"])"
   ]
  },
  {
   "cell_type": "code",
   "execution_count": null,
   "metadata": {},
   "outputs": [],
   "source": []
  }
 ],
 "metadata": {
  "kernelspec": {
   "display_name": "Python 3",
   "language": "python",
   "name": "python3"
  },
  "language_info": {
   "codemirror_mode": {
    "name": "ipython",
    "version": 3
   },
   "file_extension": ".py",
   "mimetype": "text/x-python",
   "name": "python",
   "nbconvert_exporter": "python",
   "pygments_lexer": "ipython3",
   "version": "3.7.3"
  }
 },
 "nbformat": 4,
 "nbformat_minor": 2
}
