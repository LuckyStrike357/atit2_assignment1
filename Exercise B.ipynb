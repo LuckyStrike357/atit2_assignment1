{
 "cells": [
  {
   "cell_type": "markdown",
   "metadata": {},
   "source": [
    "# B KNN MNIST\n",
    "\n",
    "- What is the error rate of KNN on the test set?\n",
    "- What is the error rate for each label (number)?\n",
    "\n",
    "Do for k = 2, 4, 8\n",
    "- How does the choice of k influence the results?"
   ]
  },
  {
   "cell_type": "code",
   "execution_count": 1,
   "metadata": {},
   "outputs": [],
   "source": [
    "import tensorflow as tf\n",
    "import numpy as np\n",
    "import matplotlib.pyplot as plt\n",
    "import seaborn as sns\n",
    "from sklearn.manifold import TSNE\n",
    "import scipy.spatial.distance\n",
    "from sklearn.metrics import f1_score\n",
    "import pandas as pd\n",
    "\n",
    "plt.set_cmap('gray')"
   ]
  },
  {
   "cell_type": "markdown",
   "metadata": {},
   "source": [
    "# load dataset"
   ]
  },
  {
   "cell_type": "code",
   "execution_count": 2,
   "metadata": {},
   "outputs": [],
   "source": [
    "train = tf.keras.datasets.mnist.load_data()[0]\n",
    "X_train, Y_train = train[0], train[1]\n",
    "\n",
    "test = tf.keras.datasets.mnist.load_data()[1]\n",
    "X_test, Y_test = test[0], test[1]\n",
    "\n",
    "n_train = X_train.shape[0]\n",
    "n_test = X_test.shape[0]\n",
    "\n",
    "m = X_train.shape[1]**2"
   ]
  },
  {
   "cell_type": "code",
   "execution_count": 3,
   "metadata": {},
   "outputs": [],
   "source": [
    "X_train = X_train.reshape([n_train, m])\n",
    "X_test = X_test.reshape([n_test, m])\n",
    "\n",
    "idx = np.random.randint(n_train, size=10000)\n",
    "x_train_sample = X_train[idx]\n",
    "y_train_sample = Y_train[idx]\n",
    "\n",
    "idx = np.random.randint(n_test, size=1000)\n",
    "x_test_sample = X_test[idx]\n",
    "y_test_sample = Y_test[idx]\n",
    "#print(idx)\n",
    "karray = [2, 4, 8]"
   ]
  },
  {
   "cell_type": "markdown",
   "metadata": {},
   "source": [
    "Function for f1 score"
   ]
  },
  {
   "cell_type": "code",
   "execution_count": 4,
   "metadata": {},
   "outputs": [],
   "source": [
    "def f1score(k):\n",
    "    dists = scipy.spatial.distance.cdist(x_train_sample, x_test_sample, metric='euclid')\n",
    "    idx_nearest = np.argpartition(dists, k, axis = 0)[:k]\n",
    "    nearest_dists = np.take(x_train_sample, idx)\n",
    "    \n",
    "    pred = y_train_sample[idx_nearest]\n",
    "    pred = np.ndarray.transpose(pred)\n",
    "    actuals = y_test_sample\n",
    "    prediction = np.array([])\n",
    "    \n",
    "    for row in pred:\n",
    "        count = np.bincount(row)\n",
    "        prediction = np.append(prediction, int(np.argmax(count)))\n",
    "    \n",
    "    prediction = prediction.astype(int)\n",
    "    '''We use (1-f1_score) instead of error rate because it considers false positives as well as false negatives.\n",
    "    We are going to use it in further exercises, too.'''\n",
    "    calcf1score = f1_score(actuals, prediction, average = 'micro')\n",
    "    print (\"The error rate for KNN with k = {} on this Dataset is {}\".format(k, (1 - calcf1score)))\n",
    "#f1score(3)"
   ]
  },
  {
   "cell_type": "code",
   "execution_count": 5,
   "metadata": {
    "scrolled": true
   },
   "outputs": [
    {
     "name": "stdout",
     "output_type": "stream",
     "text": [
      "The error rate for KNN with k = 2 on this Dataset is 0.07099999999999995\n",
      "The error rate for KNN with k = 4 on this Dataset is 0.05700000000000005\n",
      "The error rate for KNN with k = 8 on this Dataset is 0.07199999999999995\n"
     ]
    }
   ],
   "source": [
    "results = []\n",
    "def endresult():\n",
    "    for k in karray:\n",
    "        result_array = []\n",
    "        dists = scipy.spatial.distance.cdist(x_train_sample, x_test_sample, metric='euclid')\n",
    "        idx_nearest = np.argpartition(dists, k, axis = 0)[:k]\n",
    "        nearest_dists = np.take(x_train_sample, idx)\n",
    "    \n",
    "        pred = y_train_sample[idx_nearest]\n",
    "        pred = np.ndarray.transpose(pred)\n",
    "        actuals = y_test_sample\n",
    "        prediction = np.array([])\n",
    "\n",
    "        for row in pred:\n",
    "            count = np.bincount(row)\n",
    "            prediction = np.append(prediction, int(np.argmax(count)))\n",
    "    \n",
    "        prediction = prediction.astype(int)\n",
    "        '''We use 1-f1_score since it is an better indicator of quality than the error rate.'''\n",
    "        calcf1score = f1_score(actuals, prediction, average = 'micro')\n",
    "        print (\"The error rate for KNN with k = {} on this Dataset is {}\".format(k, (1 - calcf1score)))\n",
    "        \n",
    "        for i in range(10):\n",
    "            indices = np.where(actuals == i)\n",
    "            f1 = 1-(f1_score(actuals[indices], prediction[indices], average = 'micro'))\n",
    "            result_array.append(f1)\n",
    "            \n",
    "        results.append(result_array)\n",
    "               \n",
    "endresult()"
   ]
  },
  {
   "cell_type": "code",
   "execution_count": 6,
   "metadata": {},
   "outputs": [
    {
     "data": {
      "text/html": [
       "<div>\n",
       "<style scoped>\n",
       "    .dataframe tbody tr th:only-of-type {\n",
       "        vertical-align: middle;\n",
       "    }\n",
       "\n",
       "    .dataframe tbody tr th {\n",
       "        vertical-align: top;\n",
       "    }\n",
       "\n",
       "    .dataframe thead th {\n",
       "        text-align: right;\n",
       "    }\n",
       "</style>\n",
       "<table border=\"1\" class=\"dataframe\">\n",
       "  <thead>\n",
       "    <tr style=\"text-align: right;\">\n",
       "      <th></th>\n",
       "      <th>k = 2</th>\n",
       "      <th>k = 4</th>\n",
       "      <th>k = 8</th>\n",
       "    </tr>\n",
       "  </thead>\n",
       "  <tbody>\n",
       "    <tr>\n",
       "      <td>0</td>\n",
       "      <td>0.010204</td>\n",
       "      <td>0.010204</td>\n",
       "      <td>0.010204</td>\n",
       "    </tr>\n",
       "    <tr>\n",
       "      <td>1</td>\n",
       "      <td>0.000000</td>\n",
       "      <td>0.000000</td>\n",
       "      <td>0.000000</td>\n",
       "    </tr>\n",
       "    <tr>\n",
       "      <td>2</td>\n",
       "      <td>0.095652</td>\n",
       "      <td>0.086957</td>\n",
       "      <td>0.113043</td>\n",
       "    </tr>\n",
       "    <tr>\n",
       "      <td>3</td>\n",
       "      <td>0.054545</td>\n",
       "      <td>0.036364</td>\n",
       "      <td>0.036364</td>\n",
       "    </tr>\n",
       "    <tr>\n",
       "      <td>4</td>\n",
       "      <td>0.070707</td>\n",
       "      <td>0.070707</td>\n",
       "      <td>0.101010</td>\n",
       "    </tr>\n",
       "    <tr>\n",
       "      <td>5</td>\n",
       "      <td>0.107143</td>\n",
       "      <td>0.083333</td>\n",
       "      <td>0.095238</td>\n",
       "    </tr>\n",
       "    <tr>\n",
       "      <td>6</td>\n",
       "      <td>0.037500</td>\n",
       "      <td>0.037500</td>\n",
       "      <td>0.037500</td>\n",
       "    </tr>\n",
       "    <tr>\n",
       "      <td>7</td>\n",
       "      <td>0.027027</td>\n",
       "      <td>0.036036</td>\n",
       "      <td>0.081081</td>\n",
       "    </tr>\n",
       "    <tr>\n",
       "      <td>8</td>\n",
       "      <td>0.242718</td>\n",
       "      <td>0.165049</td>\n",
       "      <td>0.184466</td>\n",
       "    </tr>\n",
       "    <tr>\n",
       "      <td>9</td>\n",
       "      <td>0.065934</td>\n",
       "      <td>0.043956</td>\n",
       "      <td>0.054945</td>\n",
       "    </tr>\n",
       "  </tbody>\n",
       "</table>\n",
       "</div>"
      ],
      "text/plain": [
       "      k = 2     k = 4     k = 8\n",
       "0  0.010204  0.010204  0.010204\n",
       "1  0.000000  0.000000  0.000000\n",
       "2  0.095652  0.086957  0.113043\n",
       "3  0.054545  0.036364  0.036364\n",
       "4  0.070707  0.070707  0.101010\n",
       "5  0.107143  0.083333  0.095238\n",
       "6  0.037500  0.037500  0.037500\n",
       "7  0.027027  0.036036  0.081081\n",
       "8  0.242718  0.165049  0.184466\n",
       "9  0.065934  0.043956  0.054945"
      ]
     },
     "execution_count": 6,
     "metadata": {},
     "output_type": "execute_result"
    }
   ],
   "source": [
    "pd.DataFrame(np.array(results).T, columns=[\"k = 2\", \"k = 4\", \"k = 8\"])"
   ]
  },
  {
   "cell_type": "markdown",
   "metadata": {},
   "source": [
    "- As you can see KNN works best when k is 4. \n",
    "- The most mistakes happen on 8s and 5s."
   ]
  },
  {
   "cell_type": "markdown",
   "metadata": {},
   "source": [
    "## Answer\n",
    "\n",
    "As you can see within the table above the most mistakes tend to happen on 8s and 9s, but in general the error rate for all chosen neighbors was about 5 - 6%, which seems to be a good result. Also, it was no big influence on the result how many neighbours were chosen.\n"
   ]
  },
  {
   "cell_type": "code",
   "execution_count": null,
   "metadata": {},
   "outputs": [],
   "source": []
  }
 ],
 "metadata": {
  "kernelspec": {
   "display_name": "Python 3",
   "language": "python",
   "name": "python3"
  },
  "language_info": {
   "codemirror_mode": {
    "name": "ipython",
    "version": 3
   },
   "file_extension": ".py",
   "mimetype": "text/x-python",
   "name": "python",
   "nbconvert_exporter": "python",
   "pygments_lexer": "ipython3",
   "version": "3.7.3"
  }
 },
 "nbformat": 4,
 "nbformat_minor": 2
}
