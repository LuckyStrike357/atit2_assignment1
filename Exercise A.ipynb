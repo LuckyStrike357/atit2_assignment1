{
 "cells": [
  {
   "cell_type": "markdown",
   "metadata": {},
   "source": [
    "# A KNN\n",
    "\n",
    "1. How many distances you need to calculate if you have 60,000 samples in the trainingset for 50 samples? \n",
    "2. How many distances do you need to calculate if you have n samples im the trainingset?"
   ]
  },
  {
   "cell_type": "markdown",
   "metadata": {},
   "source": [
    "## Answer\n",
    "1)  \n",
    "\n",
    "Dataset M = 60.000\n",
    "Sample v = 50\n",
    "\n",
    "Calculation: 60.000 * 50 = 3.000.000\n",
    "\n",
    "2) \n",
    "\n",
    "Dataset M = n\n",
    "Sample v = 50\n",
    "\n",
    "Calculation: n * 50 = 50n"
   ]
  },
  {
   "cell_type": "code",
   "execution_count": null,
   "metadata": {},
   "outputs": [],
   "source": []
  }
 ],
 "metadata": {
  "kernelspec": {
   "display_name": "Python 3",
   "language": "python",
   "name": "python3"
  },
  "language_info": {
   "codemirror_mode": {
    "name": "ipython",
    "version": 3
   },
   "file_extension": ".py",
   "mimetype": "text/x-python",
   "name": "python",
   "nbconvert_exporter": "python",
   "pygments_lexer": "ipython3",
   "version": "3.7.3"
  }
 },
 "nbformat": 4,
 "nbformat_minor": 2
}
