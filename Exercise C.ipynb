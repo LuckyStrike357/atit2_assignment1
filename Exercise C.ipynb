{
 "cells": [
  {
   "cell_type": "markdown",
   "metadata": {},
   "source": [
    "# C K-means MNIST\n",
    "\n",
    "- What is the majority class of each cluster?\n",
    "- What is the percentage of the majority class in each cluster?\n",
    "- Does each number have a cluster?\n",
    "- If not, which hasn’t?\n",
    "\n",
    "Do this for 10, 100, 1000 iterations"
   ]
  },
  {
   "cell_type": "code",
   "execution_count": 1,
   "metadata": {},
   "outputs": [],
   "source": [
    "import tensorflow as tf\n",
    "import numpy as np\n",
    "import matplotlib.pyplot as plt\n",
    "import seaborn as sns\n",
    "from sklearn.manifold import TSNE\n",
    "import scipy.spatial.distance\n",
    "\n",
    "from sklearn.cluster import KMeans\n",
    "from sklearn.metrics import f1_score\n",
    "import pandas as pd"
   ]
  },
  {
   "cell_type": "code",
   "execution_count": 2,
   "metadata": {},
   "outputs": [],
   "source": [
    "#load dataset\n",
    "\n",
    "train = tf.keras.datasets.mnist.load_data()[0]\n",
    "X_train, Y_train = train[0], train[1]\n",
    "\n",
    "n = X_train.shape[0]\n",
    "m = X_train.shape[1]**2\n",
    "\n",
    "X_train = X_train.reshape([n, m])"
   ]
  },
  {
   "cell_type": "code",
   "execution_count": 3,
   "metadata": {},
   "outputs": [],
   "source": [
    "#take subsamples\n",
    "\n",
    "n_sample = 1000\n",
    "idx = np.random.randint(n, size=n_sample)\n",
    "x_sample = X_train[idx]\n",
    "y_sample = Y_train[idx]\n",
    "\n",
    "k = 10"
   ]
  },
  {
   "cell_type": "code",
   "execution_count": 4,
   "metadata": {},
   "outputs": [],
   "source": [
    "# create KMeans models\n",
    "\n",
    "kmeans_10 = KMeans(n_clusters=10, max_iter=10).fit(x_sample)\n",
    "kmeans_100 = KMeans(n_clusters=10, max_iter=100).fit(x_sample)\n",
    "kmeans_1000 = KMeans(n_clusters=10, max_iter=1000).fit(x_sample)"
   ]
  },
  {
   "cell_type": "code",
   "execution_count": 5,
   "metadata": {},
   "outputs": [],
   "source": [
    "def calculate_scores(model):\n",
    "    scores = []\n",
    "    count = 0\n",
    "    \n",
    "    for i in range(10):\n",
    "        scores.append([])\n",
    "    \n",
    "    for value in model.labels_:\n",
    "        scores[value].append(y_sample[count])\n",
    "        count += 1\n",
    "        \n",
    "    return scores\n",
    "\n",
    "kmeans_10_scores = calculate_scores(kmeans_10)\n",
    "kmeans_100_scores = calculate_scores(kmeans_100)\n",
    "kmeans_1000_scores = calculate_scores(kmeans_1000)\n"
   ]
  },
  {
   "cell_type": "code",
   "execution_count": 6,
   "metadata": {},
   "outputs": [],
   "source": [
    "kmeans_10_clusters = []\n",
    "kmeans_100_clusters = []\n",
    "kmeans_1000_clusters = []\n",
    "for i in range(10):\n",
    "    # 10 iterations\n",
    "    local_array = np.bincount(kmeans_10_scores[:][i])\n",
    "    kmeans_10_clusters.append(local_array)\n",
    "    # 100 iterations\n",
    "    local_array = np.bincount(kmeans_100_scores[:][i])\n",
    "    kmeans_100_clusters.append(local_array)\n",
    "    #1000 iterations\n",
    "    local_array = np.bincount(kmeans_1000_scores[:][i])\n",
    "    kmeans_1000_clusters.append(local_array)"
   ]
  },
  {
   "cell_type": "code",
   "execution_count": 7,
   "metadata": {},
   "outputs": [
    {
     "name": "stdout",
     "output_type": "stream",
     "text": [
      "[1, 4, 2, 0, 7, 3, 1, 3, 0, 6]\n",
      "[5 8 9]\n",
      "[0.6296296296296297, 0.3611111111111111, 0.5596330275229358, 0.95, 0.3787878787878788, 0.43636363636363634, 0.75, 0.43010752688172044, 0.5595238095238095, 0.7045454545454546]\n"
     ]
    }
   ],
   "source": [
    "def calc_cluster_percentage(cluster):\n",
    "\n",
    "    percentages = []\n",
    "    \n",
    "    for array in cluster:\n",
    "        max_idx = np.where(array == max(array))[0]\n",
    "        if len(max_idx) == 1:    \n",
    "            percentages.append(max(array) / sum(array))\n",
    "        else:\n",
    "            percentages.append(-1)\n",
    "\n",
    "    return(percentages)\n",
    "\n",
    "def get_majority_labels(cluster):\n",
    "    \n",
    "    labels = []\n",
    "    \n",
    "    for array in cluster:\n",
    "        max_idx = np.where(array == max(array))[0]\n",
    "        if len(max_idx) == 1:    \n",
    "            labels.append(max_idx[0])\n",
    "        else:\n",
    "            labels.append(-1)\n",
    "    \n",
    "    return labels\n",
    "    \n",
    "def get_missing_labels(labels):\n",
    "    classes = np.arange(10)\n",
    "    return np.where(np.isin(classes, labels) == False)[0]\n",
    "\n",
    "cluster_10_perc = calc_cluster_percentage(kmeans_10_clusters)\n",
    "cluster_10_labels = get_majority_labels(kmeans_10_clusters)\n",
    "\n",
    "print(cluster_10_labels)\n",
    "print(get_missing_labels(cluster_10_labels))\n",
    "print(cluster_10_perc)\n",
    "\n",
    "#perc_maj_cluster_100 = calc_cluster_percentage(kmeans_100_clusters)\n",
    "#perc_maj_cluster_1000 = calc_cluster_percentage(kmeans_1000_clusters)\n"
   ]
  },
  {
   "cell_type": "code",
   "execution_count": 8,
   "metadata": {},
   "outputs": [
    {
     "ename": "NameError",
     "evalue": "name 'perc_maj_cluster_10' is not defined",
     "output_type": "error",
     "traceback": [
      "\u001b[1;31m---------------------------------------------------------------------------\u001b[0m",
      "\u001b[1;31mNameError\u001b[0m                                 Traceback (most recent call last)",
      "\u001b[1;32m<ipython-input-8-2254ae4f7d8a>\u001b[0m in \u001b[0;36m<module>\u001b[1;34m\u001b[0m\n\u001b[1;32m----> 1\u001b[1;33m \u001b[0mcombined_percentages\u001b[0m \u001b[1;33m=\u001b[0m \u001b[1;33m[\u001b[0m\u001b[0mperc_maj_cluster_10\u001b[0m\u001b[1;33m,\u001b[0m \u001b[0mperc_maj_cluster_100\u001b[0m\u001b[1;33m,\u001b[0m \u001b[0mperc_maj_cluster_1000\u001b[0m\u001b[1;33m]\u001b[0m\u001b[1;33m\u001b[0m\u001b[1;33m\u001b[0m\u001b[0m\n\u001b[0m\u001b[0;32m      2\u001b[0m \u001b[0mdf1\u001b[0m \u001b[1;33m=\u001b[0m \u001b[0mpd\u001b[0m\u001b[1;33m.\u001b[0m\u001b[0mDataFrame\u001b[0m\u001b[1;33m(\u001b[0m\u001b[0mnp\u001b[0m\u001b[1;33m.\u001b[0m\u001b[0marray\u001b[0m\u001b[1;33m(\u001b[0m\u001b[0mcombined_percentages\u001b[0m\u001b[1;33m)\u001b[0m\u001b[1;33m.\u001b[0m\u001b[0mT\u001b[0m\u001b[1;33m,\u001b[0m \u001b[0mcolumns\u001b[0m\u001b[1;33m=\u001b[0m\u001b[1;33m[\u001b[0m\u001b[1;34m\"10\"\u001b[0m\u001b[1;33m,\u001b[0m\u001b[1;34m\"100\"\u001b[0m\u001b[1;33m,\u001b[0m\u001b[1;34m\"1000\"\u001b[0m\u001b[1;33m]\u001b[0m\u001b[1;33m)\u001b[0m\u001b[1;33m\u001b[0m\u001b[1;33m\u001b[0m\u001b[0m\n\u001b[0;32m      3\u001b[0m \u001b[0mnp\u001b[0m\u001b[1;33m.\u001b[0m\u001b[0marray\u001b[0m\u001b[1;33m(\u001b[0m\u001b[0mcombined_percentages\u001b[0m\u001b[1;33m)\u001b[0m\u001b[1;33m.\u001b[0m\u001b[0mT\u001b[0m\u001b[1;33m\u001b[0m\u001b[1;33m\u001b[0m\u001b[0m\n\u001b[0;32m      4\u001b[0m \u001b[0mdf1\u001b[0m\u001b[1;33m\u001b[0m\u001b[1;33m\u001b[0m\u001b[0m\n",
      "\u001b[1;31mNameError\u001b[0m: name 'perc_maj_cluster_10' is not defined"
     ]
    }
   ],
   "source": [
    "combined_percentages = [perc_maj_cluster_10, perc_maj_cluster_100, perc_maj_cluster_1000]\n",
    "df1 = pd.DataFrame(np.array(combined_percentages).T, columns=[\"10\",\"100\",\"1000\"])\n",
    "np.array(combined_percentages).T\n",
    "df1"
   ]
  },
  {
   "cell_type": "code",
   "execution_count": null,
   "metadata": {},
   "outputs": [],
   "source": []
  }
 ],
 "metadata": {
  "kernelspec": {
   "display_name": "Python 3",
   "language": "python",
   "name": "python3"
  },
  "language_info": {
   "codemirror_mode": {
    "name": "ipython",
    "version": 3
   },
   "file_extension": ".py",
   "mimetype": "text/x-python",
   "name": "python",
   "nbconvert_exporter": "python",
   "pygments_lexer": "ipython3",
   "version": "3.7.3"
  }
 },
 "nbformat": 4,
 "nbformat_minor": 2
}
