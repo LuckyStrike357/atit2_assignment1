{
 "cells": [
  {
   "cell_type": "markdown",
   "metadata": {},
   "source": [
    "# C K-means MNIST\n",
    "\n",
    "- What is the majority class of each cluster?\n",
    "- What is the percentage of the majority class in each cluster?\n",
    "- Does each number have a cluster?\n",
    "- If not, which hasn’t?\n",
    "\n",
    "Do this for 10, 100, 1000 iterations"
   ]
  },
  {
   "cell_type": "code",
   "execution_count": 1,
   "metadata": {},
   "outputs": [],
   "source": [
    "import tensorflow as tf\n",
    "import numpy as np\n",
    "import matplotlib.pyplot as plt\n",
    "import seaborn as sns\n",
    "from sklearn.manifold import TSNE\n",
    "import scipy.spatial.distance\n",
    "\n",
    "from sklearn.cluster import KMeans\n",
    "from sklearn.metrics import f1_score\n",
    "import pandas as pd"
   ]
  },
  {
   "cell_type": "code",
   "execution_count": 2,
   "metadata": {},
   "outputs": [],
   "source": [
    "#load dataset\n",
    "\n",
    "train = tf.keras.datasets.mnist.load_data()[0]\n",
    "X_train, Y_train = train[0], train[1]\n",
    "\n",
    "n = X_train.shape[0]\n",
    "m = X_train.shape[1]**2\n",
    "\n",
    "X_train = X_train.reshape([n, m])"
   ]
  },
  {
   "cell_type": "code",
   "execution_count": 98,
   "metadata": {},
   "outputs": [],
   "source": [
    "# create KMeans models\n",
    "\n",
    "kmeans_10 = KMeans(n_clusters=10, max_iter=10).fit(X_train)\n",
    "kmeans_100 = KMeans(n_clusters=10, max_iter=100).fit(X_train)\n",
    "kmeans_1000 = KMeans(n_clusters=10, max_iter=1000).fit(X_train)"
   ]
  },
  {
   "cell_type": "code",
   "execution_count": 100,
   "metadata": {},
   "outputs": [],
   "source": [
    "def calculate_scores(model):\n",
    "    scores = []\n",
    "    count = 0\n",
    "    \n",
    "    for i in range(10):\n",
    "        scores.append([])\n",
    "    \n",
    "    for value in model.labels_:\n",
    "        scores[value].append(Y_train[count])\n",
    "        count += 1\n",
    "        \n",
    "    return scores\n",
    "\n",
    "kmeans_10_scores = calculate_scores(kmeans_10)\n",
    "kmeans_100_scores = calculate_scores(kmeans_100)\n",
    "kmeans_1000_scores = calculate_scores(kmeans_1000)\n"
   ]
  },
  {
   "cell_type": "code",
   "execution_count": 101,
   "metadata": {},
   "outputs": [],
   "source": [
    "kmeans_10_clusters = []\n",
    "kmeans_100_clusters = []\n",
    "kmeans_1000_clusters = []\n",
    "for i in range(10):\n",
    "    # 10 iterations\n",
    "    local_array = np.bincount(kmeans_10_scores[:][i])\n",
    "    kmeans_10_clusters.append(local_array)\n",
    "    # 100 iterations\n",
    "    local_array = np.bincount(kmeans_100_scores[:][i])\n",
    "    kmeans_100_clusters.append(local_array)\n",
    "    #1000 iterations\n",
    "    local_array = np.bincount(kmeans_1000_scores[:][i])\n",
    "    kmeans_1000_clusters.append(local_array)"
   ]
  },
  {
   "cell_type": "code",
   "execution_count": 102,
   "metadata": {},
   "outputs": [],
   "source": [
    "def calc_cluster_percentage(cluster):\n",
    "\n",
    "    percentages = []\n",
    "    \n",
    "    for array in cluster:\n",
    "        max_idx = np.where(array == max(array))[0]\n",
    "        if len(max_idx) == 1:    \n",
    "            percentages.append(max(array) / sum(array))\n",
    "        else:\n",
    "            percentages.append(-1)\n",
    "\n",
    "    return(percentages)\n",
    "\n",
    "def get_majority_labels(cluster):\n",
    "    \n",
    "    labels = []\n",
    "    \n",
    "    for array in cluster:\n",
    "        max_idx = np.where(array == max(array))[0]\n",
    "        if len(max_idx) == 1:    \n",
    "            labels.append(max_idx[0])\n",
    "        else:\n",
    "            labels.append(-1)\n",
    "    \n",
    "    return labels\n",
    "    \n",
    "def get_missing_labels(labels):\n",
    "    classes = np.arange(10)\n",
    "    return np.where(np.isin(classes, labels) == False)[0]\n",
    "\n",
    "cluster_10_perc = calc_cluster_percentage(kmeans_10_clusters)\n",
    "cluster_10_labels = get_majority_labels(kmeans_10_clusters)\n",
    "\n",
    "cluster_100_perc = calc_cluster_percentage(kmeans_100_clusters)\n",
    "cluster_100_labels = get_majority_labels(kmeans_100_clusters)\n",
    "\n",
    "cluster_1000_perc = calc_cluster_percentage(kmeans_1000_clusters)\n",
    "cluster_1000_labels = get_majority_labels(kmeans_1000_clusters)"
   ]
  },
  {
   "cell_type": "code",
   "execution_count": 103,
   "metadata": {},
   "outputs": [
    {
     "data": {
      "text/html": [
       "<div>\n",
       "<style scoped>\n",
       "    .dataframe tbody tr th:only-of-type {\n",
       "        vertical-align: middle;\n",
       "    }\n",
       "\n",
       "    .dataframe tbody tr th {\n",
       "        vertical-align: top;\n",
       "    }\n",
       "\n",
       "    .dataframe thead th {\n",
       "        text-align: right;\n",
       "    }\n",
       "</style>\n",
       "<table border=\"1\" class=\"dataframe\">\n",
       "  <thead>\n",
       "    <tr style=\"text-align: right;\">\n",
       "      <th></th>\n",
       "      <th>10</th>\n",
       "      <th>100</th>\n",
       "      <th>1000</th>\n",
       "    </tr>\n",
       "  </thead>\n",
       "  <tbody>\n",
       "    <tr>\n",
       "      <th>0</th>\n",
       "      <td>0.872086</td>\n",
       "      <td>0.531311</td>\n",
       "      <td>0.896007</td>\n",
       "    </tr>\n",
       "    <tr>\n",
       "      <th>1</th>\n",
       "      <td>0.513204</td>\n",
       "      <td>0.426955</td>\n",
       "      <td>0.427117</td>\n",
       "    </tr>\n",
       "    <tr>\n",
       "      <th>2</th>\n",
       "      <td>0.644104</td>\n",
       "      <td>0.622717</td>\n",
       "      <td>0.530460</td>\n",
       "    </tr>\n",
       "    <tr>\n",
       "      <th>3</th>\n",
       "      <td>0.666060</td>\n",
       "      <td>0.527256</td>\n",
       "      <td>0.904793</td>\n",
       "    </tr>\n",
       "    <tr>\n",
       "      <th>4</th>\n",
       "      <td>0.839670</td>\n",
       "      <td>0.895411</td>\n",
       "      <td>0.793540</td>\n",
       "    </tr>\n",
       "    <tr>\n",
       "      <th>5</th>\n",
       "      <td>0.298385</td>\n",
       "      <td>0.357151</td>\n",
       "      <td>0.623135</td>\n",
       "    </tr>\n",
       "    <tr>\n",
       "      <th>6</th>\n",
       "      <td>0.398093</td>\n",
       "      <td>0.790205</td>\n",
       "      <td>0.525602</td>\n",
       "    </tr>\n",
       "    <tr>\n",
       "      <th>7</th>\n",
       "      <td>0.545896</td>\n",
       "      <td>0.904454</td>\n",
       "      <td>0.526726</td>\n",
       "    </tr>\n",
       "    <tr>\n",
       "      <th>8</th>\n",
       "      <td>0.421045</td>\n",
       "      <td>0.526309</td>\n",
       "      <td>0.859266</td>\n",
       "    </tr>\n",
       "    <tr>\n",
       "      <th>9</th>\n",
       "      <td>0.938450</td>\n",
       "      <td>0.859793</td>\n",
       "      <td>0.357247</td>\n",
       "    </tr>\n",
       "  </tbody>\n",
       "</table>\n",
       "</div>"
      ],
      "text/plain": [
       "         10       100      1000\n",
       "0  0.872086  0.531311  0.896007\n",
       "1  0.513204  0.426955  0.427117\n",
       "2  0.644104  0.622717  0.530460\n",
       "3  0.666060  0.527256  0.904793\n",
       "4  0.839670  0.895411  0.793540\n",
       "5  0.298385  0.357151  0.623135\n",
       "6  0.398093  0.790205  0.525602\n",
       "7  0.545896  0.904454  0.526726\n",
       "8  0.421045  0.526309  0.859266\n",
       "9  0.938450  0.859793  0.357247"
      ]
     },
     "execution_count": 103,
     "metadata": {},
     "output_type": "execute_result"
    }
   ],
   "source": [
    "combined_percentages = [cluster_10_perc, cluster_100_perc, cluster_1000_perc]\n",
    "df1 = pd.DataFrame(np.array(combined_percentages).T, columns=[\"10\",\"100\",\"1000\"])\n",
    "np.array(combined_percentages).T\n",
    "df1"
   ]
  },
  {
   "cell_type": "code",
   "execution_count": 105,
   "metadata": {},
   "outputs": [
    {
     "name": "stdout",
     "output_type": "stream",
     "text": [
      "[2, 8, 1, 1, 6, 7, 4, 3, 7, 0]\n",
      "Missing labels for 10 iterations: [5 9]\n",
      "Missing labels for 100 iterations: [5 9]\n",
      "Missing labels for 1000 iterations: [5 9]\n"
     ]
    }
   ],
   "source": [
    "print(cluster_10_labels)\n",
    "\n",
    "print(\"Missing labels for 10 iterations:\" , get_missing_labels(cluster_10_labels))\n",
    "print(\"Missing labels for 100 iterations:\" , get_missing_labels(cluster_100_labels))\n",
    "print(\"Missing labels for 1000 iterations:\" , get_missing_labels(cluster_1000_labels))\n",
    "\n",
    "# Vernuenftige Ausgabe der Label pro Cluster und Antwortsatz\n"
   ]
  }
 ],
 "metadata": {
  "kernelspec": {
   "display_name": "Python 3",
   "language": "python",
   "name": "python3"
  },
  "language_info": {
   "codemirror_mode": {
    "name": "ipython",
    "version": 3
   },
   "file_extension": ".py",
   "mimetype": "text/x-python",
   "name": "python",
   "nbconvert_exporter": "python",
   "pygments_lexer": "ipython3",
   "version": "3.7.3"
  }
 },
 "nbformat": 4,
 "nbformat_minor": 2
}
